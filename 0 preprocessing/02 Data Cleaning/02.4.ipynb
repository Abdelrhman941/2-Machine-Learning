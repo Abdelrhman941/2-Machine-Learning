{
 "cells": [
  {
   "cell_type": "code",
   "execution_count": 1,
   "metadata": {},
   "outputs": [
    {
     "data": {
      "text/plain": [
       "array([[1.        , 2.        , 4.        ],\n",
       "       [3.        , 3.66666667, 1.        ],\n",
       "       [5.        , 3.66666667, 4.        ],\n",
       "       [3.6       , 4.        , 6.        ],\n",
       "       [5.        , 3.66666667, 4.        ],\n",
       "       [4.        , 5.        , 5.        ]])"
      ]
     },
     "execution_count": 1,
     "metadata": {},
     "output_type": "execute_result"
    }
   ],
   "source": [
    "from sklearn.impute import SimpleImputer\n",
    "\n",
    "data = [[1,2,0],\n",
    "        [3,0,1],\n",
    "        [5,0,0],\n",
    "        [0,4,6],\n",
    "        [5,0,0],\n",
    "        [4,5,5]]\n",
    "\n",
    "imp = SimpleImputer(missing_values=0, strategy='mean')   # by column\n",
    "modified_data = imp.fit_transform(data)\n",
    "modified_data"
   ]
  }
 ],
 "metadata": {
  "kernelspec": {
   "display_name": "base",
   "language": "python",
   "name": "python3"
  },
  "language_info": {
   "codemirror_mode": {
    "name": "ipython",
    "version": 3
   },
   "file_extension": ".py",
   "mimetype": "text/x-python",
   "name": "python",
   "nbconvert_exporter": "python",
   "pygments_lexer": "ipython3",
   "version": "3.11.7"
  }
 },
 "nbformat": 4,
 "nbformat_minor": 2
}
