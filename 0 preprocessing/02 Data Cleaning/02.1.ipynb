{
 "cells": [
  {
   "cell_type": "code",
   "execution_count": 1,
   "metadata": {},
   "outputs": [
    {
     "data": {
      "text/plain": [
       "'\\nimpute.SimpleImputer( missing_values=nan, strategy=\\'mean\\', fill_value=None, verbose=0, copy=True)\\n\\nmissing_values >> what is the missing value in your dataset? nan is default value but you can put 0 or 1 or any other value\\nstrategy       >> you can put [mean , median , most_frequent , constant]      most_frequent=\"mode\"\\n'"
      ]
     },
     "execution_count": 1,
     "metadata": {},
     "output_type": "execute_result"
    }
   ],
   "source": [
    "import numpy as np\n",
    "from sklearn.impute import SimpleImputer\n",
    "\n",
    "'''\n",
    "impute.SimpleImputer( missing_values=nan, strategy='mean', fill_value=None, verbose=0, copy=True)\n",
    "\n",
    "missing_values >> what is the missing value in your dataset? nan is default value but you can put 0 or 1 or any other value\n",
    "strategy       >> you can put [mean , median , most_frequent , constant]      most_frequent=\"mode\"\n",
    "'''\n",
    "\n",
    "# data = ............\n",
    "\n",
    "# ImputedModule = SimpleImputer(missing_values = np.nan, strategy ='mean')\n",
    "# data = ImputedModule.fit_transform(data)\n",
    "\n",
    "\n",
    "# #X Data\n",
    "# print(f'X Data : \\n{data[:10]}')\n",
    "\n",
    "# #y Data\n",
    "# print(f'y Data : \\n{data[:10]}')"
   ]
  },
  {
   "cell_type": "code",
   "execution_count": 2,
   "metadata": {},
   "outputs": [],
   "source": [
    "from sklearn.datasets import load_breast_cancer\n",
    "\n",
    "#load breast cancer data\n",
    "X , y = load_breast_cancer(return_X_y=True)\n",
    "\n",
    "ImputedModule = SimpleImputer(missing_values = np.nan, strategy ='mean')\n",
    "X = ImputedModule.fit_transform(X)"
   ]
  },
  {
   "cell_type": "code",
   "execution_count": 3,
   "metadata": {},
   "outputs": [
    {
     "name": "stdout",
     "output_type": "stream",
     "text": [
      "X Data : \n",
      "[[1.799e+01 1.038e+01 1.228e+02 1.001e+03 1.184e-01 2.776e-01 3.001e-01\n",
      "  1.471e-01 2.419e-01 7.871e-02 1.095e+00 9.053e-01 8.589e+00 1.534e+02\n",
      "  6.399e-03 4.904e-02 5.373e-02 1.587e-02 3.003e-02 6.193e-03 2.538e+01\n",
      "  1.733e+01 1.846e+02 2.019e+03 1.622e-01 6.656e-01 7.119e-01 2.654e-01\n",
      "  4.601e-01 1.189e-01]]\n",
      "y Data : \n",
      "[[1.799e+01 1.038e+01 1.228e+02 1.001e+03 1.184e-01 2.776e-01 3.001e-01\n",
      "  1.471e-01 2.419e-01 7.871e-02 1.095e+00 9.053e-01 8.589e+00 1.534e+02\n",
      "  6.399e-03 4.904e-02 5.373e-02 1.587e-02 3.003e-02 6.193e-03 2.538e+01\n",
      "  1.733e+01 1.846e+02 2.019e+03 1.622e-01 6.656e-01 7.119e-01 2.654e-01\n",
      "  4.601e-01 1.189e-01]]\n"
     ]
    }
   ],
   "source": [
    "#X Data\n",
    "print(f'X Data : \\n{X[:1]}')\n",
    "\n",
    "#y Data\n",
    "print(f'y Data : \\n{X[:1]}')"
   ]
  }
 ],
 "metadata": {
  "kernelspec": {
   "display_name": "base",
   "language": "python",
   "name": "python3"
  },
  "language_info": {
   "codemirror_mode": {
    "name": "ipython",
    "version": 3
   },
   "file_extension": ".py",
   "mimetype": "text/x-python",
   "name": "python",
   "nbconvert_exporter": "python",
   "pygments_lexer": "ipython3",
   "version": "3.11.7"
  }
 },
 "nbformat": 4,
 "nbformat_minor": 2
}
