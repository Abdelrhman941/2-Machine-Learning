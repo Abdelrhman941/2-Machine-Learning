{
 "cells": [
  {
   "cell_type": "code",
   "execution_count": 1,
   "metadata": {},
   "outputs": [],
   "source": [
    "from sklearn.pipeline import Pipeline\n",
    "from sklearn.model_selection import train_test_split\n",
    "#----------------------------------------------------\n",
    "\n",
    "## Applying Pipeline :  \n",
    "\n",
    "#=======================================================================\n",
    "## Example : \n",
    "# from sklearn.linear_model  import LinearRegression\n",
    "# from sklearn.preprocessing import PolynomialFeatures\n",
    "# from sklearn.preprocessing import StandardScaler\n",
    "\n",
    "# steps = [('scalar', StandardScaler()),\n",
    "#          ('poly', PolynomialFeatures(degree=2)),\n",
    "#          ('model', LinearRegression())]\n",
    "#=======================================================================\n",
    "# PipelineModel = Pipeline(steps)\n",
    "# PipelineModel.fit(X_train, y_train)\n",
    "\n",
    "##Calculating Details:\n",
    "# print(f'Pipeline Model Train Score : {PipelineModel.score(X_train, y_train)}')\n",
    "# print(f'Pipeline Model Test  Score : {PipelineModel.score(X_test, y_test)}')\n",
    "# print('----------------------------------------------------')\n",
    "\n",
    "## Calculating Prediction:\n",
    "# y_pred = PipelineModel.predict(X_test)\n",
    "# y_pred_proba = PipelineModel.predict_proba(X_test)\n",
    "# print(f'Predicted Value for Pipeline Model : \\n{y_pred[:5]}')\n",
    "# print(f'Predicted Probabilities Values for Pipeline Model : \\n{y_pred_proba[:5]}')"
   ]
  },
  {
   "attachments": {
    "image.png": {
     "image/png": "[encoded data removed]"
    }
   },
   "cell_type": "markdown",
   "metadata": {},
   "source": [
    "![image.png](attachment:image.png)"
   ]
  },
  {
   "cell_type": "code",
   "execution_count": 2,
   "metadata": {},
   "outputs": [],
   "source": [
    "from sklearn.datasets import load_breast_cancer\n",
    "X , y = load_breast_cancer(return_X_y=True)\n",
    "\n",
    "X_train, X_test, y_train, y_test = train_test_split(X, y, test_size=0.33, random_state=44, shuffle =True)"
   ]
  },
  {
   "cell_type": "code",
   "execution_count": 3,
   "metadata": {},
   "outputs": [
    {
     "name": "stdout",
     "output_type": "stream",
     "text": [
      "Pipeline Model Train Score : 1.0\n",
      "Pipeline Model Test  Score : -950.7236409979961\n",
      "----------------------------------------------------\n",
      "Predicted Value for Pipeline Model : \n",
      "[ 0.24417511 -0.93144248  1.15313229 -0.26996356  0.95693958]\n"
     ]
    }
   ],
   "source": [
    "from sklearn.linear_model import LinearRegression\n",
    "from sklearn.preprocessing import PolynomialFeatures\n",
    "from sklearn.preprocessing import StandardScaler\n",
    "\n",
    "steps = [\n",
    "        ('scalar', StandardScaler()),\n",
    "        ('poly', PolynomialFeatures(degree=2)),\n",
    "        ('model', LinearRegression())\n",
    "        ]\n",
    "\n",
    "PipelineModel = Pipeline(steps)\n",
    "PipelineModel.fit(X_train, y_train)\n",
    "\n",
    "#Calculating Details:\n",
    "print(f'Pipeline Model Train Score : {PipelineModel.score(X_train, y_train)}')\n",
    "print(f'Pipeline Model Test  Score : {PipelineModel.score(X_test, y_test)}')\n",
    "print('----------------------------------------------------')\n",
    "# Calculating Prediction:\n",
    "y_pred = PipelineModel.predict(X_test)\n",
    "print(f'Predicted Value for Pipeline Model : \\n{y_pred[:5]}')"
   ]
  }
 ],
 "metadata": {
  "kernelspec": {
   "display_name": "base",
   "language": "python",
   "name": "python3"
  },
  "language_info": {
   "codemirror_mode": {
    "name": "ipython",
    "version": 3
   },
   "file_extension": ".py",
   "mimetype": "text/x-python",
   "name": "python",
   "nbconvert_exporter": "python",
   "pygments_lexer": "ipython3",
   "version": "3.11.7"
  }
 },
 "nbformat": 4,
 "nbformat_minor": 2
}
