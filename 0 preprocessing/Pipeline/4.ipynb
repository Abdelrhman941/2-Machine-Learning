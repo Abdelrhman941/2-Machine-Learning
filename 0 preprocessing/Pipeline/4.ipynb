{
 "cells": [
  {
   "cell_type": "code",
   "execution_count": 3,
   "metadata": {},
   "outputs": [],
   "source": [
    "import numpy as np\n",
    "import pandas as pd\n",
    "from sklearn.datasets import load_digits\n",
    "from sklearn.preprocessing import StandardScaler\n",
    "from sklearn.linear_model import SGDClassifier\n",
    "from sklearn.decomposition import PCA\n",
    "from sklearn.model_selection import GridSearchCV\n",
    "from sklearn.pipeline import Pipeline\n",
    "from sklearn.model_selection import train_test_split\n",
    "\n",
    "X, y = load_digits(return_X_y=True)\n",
    "X_tr, X_ts, y_tr, y_ts = train_test_split(X, y, random_state=42, test_size=0.3)"
   ]
  },
  {
   "cell_type": "code",
   "execution_count": 4,
   "metadata": {},
   "outputs": [
    {
     "name": "stdout",
     "output_type": "stream",
     "text": [
      "Best parameter (CV score = 0.936):\n",
      "Best parameters: {'logistic__alpha': 0.01, 'pca__n_components': 50}\n"
     ]
    }
   ],
   "source": [
    "# Define a pipeline to search for the best combination of PCA truncation and classifier regularization.\n",
    "scaler   = StandardScaler()\n",
    "logistic = SGDClassifier(loss='log_loss', penalty='l2', max_iter=20000, tol=1e-6, random_state=0)\n",
    "pca      = PCA()\n",
    "pipe     = Pipeline(steps=[('scaler', scaler), ('pca', pca), ('logistic', logistic)])\n",
    "\n",
    "# Define the parameter grid\n",
    "param_grid = {\n",
    "    'pca__n_components': [5, 20, 30, 40, 50, 64],\n",
    "    'logistic__alpha': np.logspace(-4, 4, 5) }\n",
    "\n",
    "# Use GridSearchCV to search for the best parameters\n",
    "search = GridSearchCV(pipe, param_grid, cv=5, return_train_score=False)\n",
    "search.fit(X_tr, y_tr)\n",
    "\n",
    "print(f\"Best parameter (CV score = {search.best_score_:0.3f}):\")\n",
    "print(f\"Best parameters: {search.best_params_}\")"
   ]
  }
 ],
 "metadata": {
  "kernelspec": {
   "display_name": "base",
   "language": "python",
   "name": "python3"
  },
  "language_info": {
   "codemirror_mode": {
    "name": "ipython",
    "version": 3
   },
   "file_extension": ".py",
   "mimetype": "text/x-python",
   "name": "python",
   "nbconvert_exporter": "python",
   "pygments_lexer": "ipython3",
   "version": "3.11.7"
  }
 },
 "nbformat": 4,
 "nbformat_minor": 2
}
