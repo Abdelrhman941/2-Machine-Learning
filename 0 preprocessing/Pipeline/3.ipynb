{
 "cells": [
  {
   "cell_type": "code",
   "execution_count": 4,
   "metadata": {},
   "outputs": [],
   "source": [
    "from sklearn.datasets import load_digits\n",
    "from sklearn.linear_model import SGDClassifier\n",
    "from sklearn.decomposition import PCA\n",
    "from sklearn.pipeline import Pipeline\n",
    "from sklearn.model_selection import train_test_split\n",
    "from sklearn.metrics import confusion_matrix\n",
    "import matplotlib.pyplot as plt\n",
    "import seaborn as sns\n",
    "\n",
    "X , y = load_digits(return_X_y=True)\n",
    "X_tr, X_ts, y_tr, y_ts = train_test_split(X, y, random_state=42, test_size=0.3)"
   ]
  },
  {
   "cell_type": "code",
   "execution_count": 8,
   "metadata": {},
   "outputs": [
    {
     "name": "stderr",
     "output_type": "stream",
     "text": [
      "c:\\Users\\Al-arab\\anaconda3\\Lib\\site-packages\\sklearn\\linear_model\\_stochastic_gradient.py:163: FutureWarning: The loss 'log' was deprecated in v1.1 and will be removed in version 1.3. Use `loss='log_loss'` which is equivalent.\n",
      "  warnings.warn(\n"
     ]
    },
    {
     "name": "stdout",
     "output_type": "stream",
     "text": [
      "Train Score (CV score = 0.98):\n",
      "Test  Score (CV score = 0.96):\n"
     ]
    }
   ],
   "source": [
    "## Define a pipeline to search for the best combination of PCA truncation and classifier regularization.\n",
    "logistic = SGDClassifier(loss='log', penalty='l2', max_iter=10000, tol=1e-5, random_state=0)\n",
    "pca = PCA()\n",
    "pipe = Pipeline(steps=[('pca', pca), ('logistic', logistic)])\n",
    "pipe.fit(X_tr, y_tr)\n",
    "print(f\"Train Score (CV score = {pipe.score(X_tr, y_tr):0.2f}):\")\n",
    "print(f\"Test  Score (CV score = {pipe.score(X_ts, y_ts):0.2f}):\")"
   ]
  },
  {
   "cell_type": "code",
   "execution_count": 9,
   "metadata": {},
   "outputs": [
    {
     "name": "stdout",
     "output_type": "stream",
     "text": [
      "[[53  0  0  0  0  0  0  0  0  0]\n",
      " [ 0 48  0  0  0  0  0  0  2  0]\n",
      " [ 0  0 47  0  0  0  0  0  0  0]\n",
      " [ 0  0  1 52  0  1  0  0  0  0]\n",
      " [ 0  1  0  0 58  0  1  0  0  0]\n",
      " [ 0  1  1  0  0 61  0  1  1  1]\n",
      " [ 0  0  0  0  0  1 52  0  0  0]\n",
      " [ 0  0  0  1  0  0  0 53  0  1]\n",
      " [ 0  2  0  0  0  1  0  0 40  0]\n",
      " [ 0  0  0  2  0  0  0  0  3 54]]\n"
     ]
    },
    {
     "data": {
      "image/png": "[encoded data removed]",
      "text/plain": [
       "<Figure size 640x480 with 2 Axes>"
      ]
     },
     "metadata": {},
     "output_type": "display_data"
    }
   ],
   "source": [
    "y_pred = pipe.predict(X_ts)\n",
    "cm = confusion_matrix(y_ts, y_pred)\n",
    "print(cm)\n",
    "sns.heatmap(cm, center=True)\n",
    "plt.show()"
   ]
  }
 ],
 "metadata": {
  "kernelspec": {
   "display_name": "base",
   "language": "python",
   "name": "python3"
  },
  "language_info": {
   "codemirror_mode": {
    "name": "ipython",
    "version": 3
   },
   "file_extension": ".py",
   "mimetype": "text/x-python",
   "name": "python",
   "nbconvert_exporter": "python",
   "pygments_lexer": "ipython3",
   "version": "3.11.7"
  }
 },
 "nbformat": 4,
 "nbformat_minor": 2
}
