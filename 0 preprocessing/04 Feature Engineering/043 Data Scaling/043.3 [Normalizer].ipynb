{
 "cells": [
  {
   "cell_type": "code",
   "execution_count": 1,
   "metadata": {},
   "outputs": [],
   "source": [
    "from sklearn.preprocessing import Normalizer\n",
    "#----------------------------------------------------\n",
    "\n",
    "## Normalizing Data:\n",
    "\n",
    "# scaler = Normalizer(copy=True, norm='max')      # you can change the norm to 'l1' or 'l2' \n",
    "# X = scaler.fit_transform(X)\n",
    "\n",
    "## showing data :\n",
    "# print(f'X :\\n{X[:10]}')\n",
    "# print(f'y :\\n{y[:10]}')"
   ]
  },
  {
   "cell_type": "code",
   "execution_count": 6,
   "metadata": {},
   "outputs": [
    {
     "name": "stdout",
     "output_type": "stream",
     "text": [
      "[[1.         0.25       0.75       0.5       ]\n",
      " [0.11111111 0.33333333 1.         0.33333333]\n",
      " [0.71428571 1.         0.71428571 0.14285714]]\n"
     ]
    }
   ],
   "source": [
    "X =[[4, 1, 3, 2], \n",
    "    [1, 3, 9, 3], \n",
    "    [5, 7, 5, 1]]\n",
    "\n",
    "transformer = Normalizer(norm='max') # norm='l1' or 'l2'\n",
    "\n",
    "newdata = transformer.fit_transform(X)\n",
    "print(newdata)"
   ]
  }
 ],
 "metadata": {
  "kernelspec": {
   "display_name": "base",
   "language": "python",
   "name": "python3"
  },
  "language_info": {
   "codemirror_mode": {
    "name": "ipython",
    "version": 3
   },
   "file_extension": ".py",
   "mimetype": "text/x-python",
   "name": "python",
   "nbconvert_exporter": "python",
   "pygments_lexer": "ipython3",
   "version": "3.11.7"
  }
 },
 "nbformat": 4,
 "nbformat_minor": 2
}
