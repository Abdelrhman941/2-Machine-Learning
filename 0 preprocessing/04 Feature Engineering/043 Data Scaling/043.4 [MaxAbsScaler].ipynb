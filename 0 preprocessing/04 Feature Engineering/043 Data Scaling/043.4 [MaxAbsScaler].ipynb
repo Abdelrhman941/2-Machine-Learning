{
 "cells": [
  {
   "cell_type": "code",
   "execution_count": 1,
   "metadata": {},
   "outputs": [],
   "source": [
    "from sklearn.preprocessing import MaxAbsScaler\n",
    "#----------------------------------------------------\n",
    "\n",
    "## MaxAbsScaler Data:\n",
    "\n",
    "# scaler = MaxAbsScaler(copy=True)\n",
    "# X = scaler.fit_transform(X)\n",
    "\n",
    "## showing data :\n",
    "# print(f'X :\\n{X[:10]}')\n",
    "# print(f'y :\\n{y[:10]}')"
   ]
  },
  {
   "cell_type": "code",
   "execution_count": 4,
   "metadata": {},
   "outputs": [
    {
     "data": {
      "text/plain": [
       "array([[ 0.2,  1. ,  1. ],\n",
       "       [ 0.4,  0. ,  0. ],\n",
       "       [ 1. ,  0.1, -0.5]])"
      ]
     },
     "execution_count": 4,
     "metadata": {},
     "output_type": "execute_result"
    }
   ],
   "source": [
    "X =[[ 1. ,10. , 2. ],\n",
    "    [ 2. , 0. , 0. ],\n",
    "    [ 5. , 1. , -1.]]\n",
    "\n",
    "transformer = MaxAbsScaler().fit_transform(X)\n",
    "transformer"
   ]
  }
 ],
 "metadata": {
  "kernelspec": {
   "display_name": "base",
   "language": "python",
   "name": "python3"
  },
  "language_info": {
   "codemirror_mode": {
    "name": "ipython",
    "version": 3
   },
   "file_extension": ".py",
   "mimetype": "text/x-python",
   "name": "python",
   "nbconvert_exporter": "python",
   "pygments_lexer": "ipython3",
   "version": "3.11.7"
  }
 },
 "nbformat": 4,
 "nbformat_minor": 2
}
