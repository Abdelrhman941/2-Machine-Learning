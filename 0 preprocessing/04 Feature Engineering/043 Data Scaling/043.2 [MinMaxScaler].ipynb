{
 "cells": [
  {
   "cell_type": "code",
   "execution_count": 1,
   "metadata": {},
   "outputs": [],
   "source": [
    "from sklearn.preprocessing import MinMaxScaler\n",
    "#----------------------------------------------------\n",
    "\n",
    "## MinMaxScaler for Data (Normalization):\n",
    "\n",
    "# scaler = MinMaxScaler(copy=True, feature_range=(0, 1))\n",
    "# X = scaler.fit_transform(X)\n",
    "\n",
    "## showing data :\n",
    "# print(f'X :\\n{X[:10]}')\n",
    "# print(f'y :\\n{y[:10]}')"
   ]
  },
  {
   "attachments": {
    "image.png": {
     "image/png": "[encoded data removed]"
    }
   },
   "cell_type": "markdown",
   "metadata": {},
   "source": [
    "![image.png](attachment:image.png)"
   ]
  },
  {
   "cell_type": "code",
   "execution_count": 5,
   "metadata": {},
   "outputs": [
    {
     "name": "stdout",
     "output_type": "stream",
     "text": [
      "range = [ 2. 16.]\n",
      "min   = [-1.  2.]\n",
      "max   = [ 1. 18.]\n",
      "\n",
      " new data >> \n",
      " [[0.   0.  ]\n",
      " [0.25 0.25]\n",
      " [0.5  0.5 ]\n",
      " [1.   1.  ]]\n"
     ]
    }
   ],
   "source": [
    "data = [[-1  , 2 ], \n",
    "        [-0.5, 6 ], \n",
    "        [0   , 10], \n",
    "        [1   , 18]]\n",
    "\n",
    "scaler = MinMaxScaler()\n",
    "scaler.fit(data)\n",
    "print(f\"range = {scaler.data_range_}\")\n",
    "print(f\"min   = {scaler.data_min_}\")\n",
    "print(f\"max   = {scaler.data_max_}\")\n",
    "\n",
    "newdata = scaler.transform(data)\n",
    "print(f\"\\n new data >> \\n {newdata}\")"
   ]
  },
  {
   "cell_type": "code",
   "execution_count": 6,
   "metadata": {},
   "outputs": [
    {
     "name": "stdout",
     "output_type": "stream",
     "text": [
      "[[0.   0.  ]\n",
      " [0.25 0.25]\n",
      " [0.5  0.5 ]\n",
      " [1.   1.  ]]\n"
     ]
    }
   ],
   "source": [
    "# or fast way to do fit:\n",
    "newdata = scaler.fit_transform(data)\n",
    "print(newdata)"
   ]
  },
  {
   "cell_type": "code",
   "execution_count": 9,
   "metadata": {},
   "outputs": [
    {
     "name": "stdout",
     "output_type": "stream",
     "text": [
      "[[1. 1.]\n",
      " [2. 2.]\n",
      " [3. 3.]\n",
      " [5. 5.]]\n"
     ]
    }
   ],
   "source": [
    "# i can change range from (0:1) to ex (1:5)\n",
    "scaler = MinMaxScaler(feature_range= (1,5))\n",
    "newdata = scaler.fit_transform(data)\n",
    "print(newdata)"
   ]
  }
 ],
 "metadata": {
  "kernelspec": {
   "display_name": "base",
   "language": "python",
   "name": "python3"
  },
  "language_info": {
   "codemirror_mode": {
    "name": "ipython",
    "version": 3
   },
   "file_extension": ".py",
   "mimetype": "text/x-python",
   "name": "python",
   "nbconvert_exporter": "python",
   "pygments_lexer": "ipython3",
   "version": "3.11.7"
  }
 },
 "nbformat": 4,
 "nbformat_minor": 2
}
