{
 "cells": [
  {
   "cell_type": "code",
   "execution_count": 1,
   "metadata": {},
   "outputs": [],
   "source": [
    "from sklearn.preprocessing import Binarizer\n",
    "#----------------------------------------------------\n",
    "\n",
    "## Binarizing Data:\n",
    "\n",
    "# scaler = Binarizer(threshold = 1.0)\n",
    "# X = scaler.fit_transform(X)\n",
    "\n",
    "## showing data :\n",
    "# print(f'X :\\n{X[:10]}')\n",
    "# print(f'y :\\n{y[:10]}')"
   ]
  },
  {
   "cell_type": "code",
   "execution_count": 2,
   "metadata": {},
   "outputs": [
    {
     "data": {
      "text/plain": [
       "array([[0., 0., 0.],\n",
       "       [1., 0., 0.],\n",
       "       [0., 0., 0.]])"
      ]
     },
     "execution_count": 2,
     "metadata": {},
     "output_type": "execute_result"
    }
   ],
   "source": [
    "X =[[ 1. ,-1. , -2. ],\n",
    "    [ 2. , 0. , -1. ], \n",
    "    [ 0. , 1. , -1. ]]\n",
    "\n",
    "transformer = Binarizer(threshold=1.5) \n",
    "transformer.fit_transform(X)"
   ]
  }
 ],
 "metadata": {
  "kernelspec": {
   "display_name": "base",
   "language": "python",
   "name": "python3"
  },
  "language_info": {
   "codemirror_mode": {
    "name": "ipython",
    "version": 3
   },
   "file_extension": ".py",
   "mimetype": "text/x-python",
   "name": "python",
   "nbconvert_exporter": "python",
   "pygments_lexer": "ipython3",
   "version": "3.11.7"
  }
 },
 "nbformat": 4,
 "nbformat_minor": 2
}
