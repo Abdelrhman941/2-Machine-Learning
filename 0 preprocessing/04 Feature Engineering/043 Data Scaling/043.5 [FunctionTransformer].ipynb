{
 "cells": [
  {
   "cell_type": "code",
   "execution_count": 1,
   "metadata": {},
   "outputs": [
    {
     "data": {
      "text/plain": [
       "\"\\nFunctionTransformer(func=None, inverse_func=None, validate= None,\\n                    accept_sparse=False,pass_y='deprecated', check_inverse=True,\\n                    kw_args=None,inv_kw_args=None)\\n\""
      ]
     },
     "execution_count": 1,
     "metadata": {},
     "output_type": "execute_result"
    }
   ],
   "source": [
    "from sklearn.preprocessing import FunctionTransformer\n",
    "import numpy as np\n",
    "#----------------------------------------------------\n",
    "\n",
    "## Function Transforming Data:\n",
    "'''\n",
    "FunctionTransformer(func=None, inverse_func=None, validate= None,\n",
    "                    accept_sparse=False,pass_y='deprecated', check_inverse=True,\n",
    "                    kw_args=None,inv_kw_args=None)\n",
    "'''\n",
    "\n",
    "# scaler = FunctionTransformer(func = lambda x: x*0.1, validate = True)  # or func = function1\n",
    "# X = scaler.fit_transform(X)\n",
    "# X"
   ]
  },
  {
   "cell_type": "code",
   "execution_count": 3,
   "metadata": {},
   "outputs": [
    {
     "data": {
      "text/plain": [
       "array([[2.        , 1.        , 1.41421356, 1.41421356],\n",
       "       [1.        , 1.73205081, 3.        , 1.73205081],\n",
       "       [2.23606798, 2.64575131, 2.23606798, 1.        ]])"
      ]
     },
     "execution_count": 3,
     "metadata": {},
     "output_type": "execute_result"
    }
   ],
   "source": [
    "X =[[4, 1, 2, 2], \n",
    "    [1, 3, 9, 3], \n",
    "    [5, 7, 5, 1]]\n",
    "\n",
    "def function1(z):\n",
    "    return np.sqrt(z)\n",
    "\n",
    "FT = FunctionTransformer(func = function1)\n",
    "newdata = FT.fit_transform(X)\n",
    "newdata"
   ]
  }
 ],
 "metadata": {
  "kernelspec": {
   "display_name": "base",
   "language": "python",
   "name": "python3"
  },
  "language_info": {
   "codemirror_mode": {
    "name": "ipython",
    "version": 3
   },
   "file_extension": ".py",
   "mimetype": "text/x-python",
   "name": "python",
   "nbconvert_exporter": "python",
   "pygments_lexer": "ipython3",
   "version": "3.11.7"
  }
 },
 "nbformat": 4,
 "nbformat_minor": 2
}
