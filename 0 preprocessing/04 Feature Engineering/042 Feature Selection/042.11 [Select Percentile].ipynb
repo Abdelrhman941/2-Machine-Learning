{
 "cells": [
  {
   "cell_type": "code",
   "execution_count": 6,
   "metadata": {},
   "outputs": [
    {
     "data": {
      "text/plain": [
       "\"\\nFeatureSelection = SelectPercentile(score_func = chi2, percentile=20) \\nX = FeatureSelection.fit_transform(X, y)\\n\\nscore_func = ['chi2' , 'f_classif']\\npercentile >> do 20 % from features\\n\""
      ]
     },
     "execution_count": 6,
     "metadata": {},
     "output_type": "execute_result"
    }
   ],
   "source": [
    "from sklearn.datasets import load_breast_cancer\n",
    "from sklearn.feature_selection import SelectPercentile , chi2 , f_classif\n",
    "import numpy as np\n",
    "#----------------------------------------------------\n",
    "\"\"\"\n",
    "FeatureSelection = SelectPercentile(score_func = chi2, percentile=20) \n",
    "X = FeatureSelection.fit_transform(X, y)\n",
    "\n",
    "score_func = ['chi2' , 'f_classif']\n",
    "percentile >> do 20 % from features\n",
    "\"\"\""
   ]
  },
  {
   "cell_type": "code",
   "execution_count": 7,
   "metadata": {},
   "outputs": [
    {
     "name": "stdout",
     "output_type": "stream",
     "text": [
      "X shape : (569, 30)\n",
      "y shape : (569,)\n"
     ]
    }
   ],
   "source": [
    "X , y = load_breast_cancer(return_X_y= True)\n",
    "\n",
    "print(f'X shape : {X.shape}')\n",
    "print(f'y shape : {y.shape}')"
   ]
  },
  {
   "cell_type": "code",
   "execution_count": 10,
   "metadata": {},
   "outputs": [
    {
     "name": "stdout",
     "output_type": "stream",
     "text": [
      "X     shape : (569, 30)\n",
      "new_X shape : (569, 6)\n",
      "\n",
      "Selected Features >> \n",
      "[False False  True  True False False False False False False False False\n",
      " False  True False False False False False False  True False  True  True\n",
      " False False False False False False]\n"
     ]
    }
   ],
   "source": [
    "FeatureSelection = SelectPercentile(score_func = chi2, percentile=20) \n",
    "new_X = FeatureSelection.fit_transform(X, y)\n",
    "\n",
    "# showing X Dimension \n",
    "print(f'X     shape : {X.shape}')\n",
    "print(f'new_X shape : {new_X.shape}\\n')\n",
    "print(f'Selected Features >> \\n{FeatureSelection.get_support()}')"
   ]
  },
  {
   "cell_type": "code",
   "execution_count": 9,
   "metadata": {},
   "outputs": [
    {
     "name": "stdout",
     "output_type": "stream",
     "text": [
      "New X Features >> \n",
      " ['mean perimeter' 'mean area' 'area error' 'worst radius'\n",
      " 'worst perimeter' 'worst area']\n"
     ]
    }
   ],
   "source": [
    "# Print names of selected features\n",
    "selected_feature_names = np.array(load_breast_cancer().feature_names)[FeatureSelection.get_support()]\n",
    "print(f'New X Features >> \\n {selected_feature_names}')"
   ]
  }
 ],
 "metadata": {
  "kernelspec": {
   "display_name": "base",
   "language": "python",
   "name": "python3"
  },
  "language_info": {
   "codemirror_mode": {
    "name": "ipython",
    "version": 3
   },
   "file_extension": ".py",
   "mimetype": "text/x-python",
   "name": "python",
   "nbconvert_exporter": "python",
   "pygments_lexer": "ipython3",
   "version": "3.11.7"
  }
 },
 "nbformat": 4,
 "nbformat_minor": 2
}
