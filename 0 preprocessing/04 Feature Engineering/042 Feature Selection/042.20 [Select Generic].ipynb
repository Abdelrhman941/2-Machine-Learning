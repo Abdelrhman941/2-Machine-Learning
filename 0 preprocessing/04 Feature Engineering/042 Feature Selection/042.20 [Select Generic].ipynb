{
 "cells": [
  {
   "cell_type": "code",
   "execution_count": 2,
   "metadata": {},
   "outputs": [
    {
     "data": {
      "text/plain": [
       "'\\nFeatureSelection = GenericUnivariateSelect(score_func= chi2, mode= \\'k_best\\', param=3) \\nX = FeatureSelection.fit_transform(X, y)\\n\\nscore_func = [\\'chi2\\' , \\'f_classif\\']\\nmode       = [\"percentile\",\"k_best\",\"fpr\",\"fdr\",\"fwe\"]\\n'"
      ]
     },
     "execution_count": 2,
     "metadata": {},
     "output_type": "execute_result"
    }
   ],
   "source": [
    "from sklearn.feature_selection import GenericUnivariateSelect , chi2 , f_classif \n",
    "import numpy as np\n",
    "#----------------------------------------------------\n",
    "\n",
    "## Feature Selection by Generic :\n",
    "\"\"\"\n",
    "FeatureSelection = GenericUnivariateSelect(score_func= chi2, mode= 'k_best', param=3) \n",
    "X = FeatureSelection.fit_transform(X, y)\n",
    "\n",
    "score_func = ['chi2' , 'f_classif']\n",
    "mode       = [\"percentile\",\"k_best\",\"fpr\",\"fdr\",\"fwe\"]\n",
    "\"\"\"\n",
    "\n",
    "## showing X Dimension \n",
    "# print(f'X shape : {X.shape}')\n",
    "# print(f'Selected Features >> \\n{transformer.get_support()}')"
   ]
  },
  {
   "cell_type": "code",
   "execution_count": 3,
   "metadata": {},
   "outputs": [
    {
     "name": "stdout",
     "output_type": "stream",
     "text": [
      "X     shape : (569, 30)\n",
      "new_X shape : (569, 5)\n",
      "\n",
      "Selected Features >> \n",
      "[False False  True  True False False False False False False False False\n",
      " False  True False False False False False False False False  True  True\n",
      " False False False False False False]\n"
     ]
    }
   ],
   "source": [
    "from sklearn.datasets import load_breast_cancer\n",
    "\n",
    "X, y = load_breast_cancer(return_X_y=True)\n",
    "\n",
    "transformer = GenericUnivariateSelect(score_func=chi2, mode='k_best', param=5)\n",
    "X_new = transformer.fit_transform(X, y)\n",
    "\n",
    "## showing X Dimension \n",
    "print(f'X     shape : {X.shape}')\n",
    "print(f'new_X shape : {X_new.shape}\\n')\n",
    "print(f'Selected Features >> \\n{transformer.get_support()}')"
   ]
  },
  {
   "cell_type": "code",
   "execution_count": 4,
   "metadata": {},
   "outputs": [
    {
     "name": "stdout",
     "output_type": "stream",
     "text": [
      "New X Features >> \n",
      " ['mean perimeter' 'mean area' 'area error' 'worst perimeter' 'worst area']\n"
     ]
    }
   ],
   "source": [
    "# Print names of selected features\n",
    "selected_feature_names = np.array(load_breast_cancer().feature_names)[transformer.get_support()]\n",
    "print(f'New X Features >> \\n {selected_feature_names}')"
   ]
  }
 ],
 "metadata": {
  "kernelspec": {
   "display_name": "base",
   "language": "python",
   "name": "python3"
  },
  "language_info": {
   "codemirror_mode": {
    "name": "ipython",
    "version": 3
   },
   "file_extension": ".py",
   "mimetype": "text/x-python",
   "name": "python",
   "nbconvert_exporter": "python",
   "pygments_lexer": "ipython3",
   "version": "3.11.7"
  }
 },
 "nbformat": 4,
 "nbformat_minor": 2
}
