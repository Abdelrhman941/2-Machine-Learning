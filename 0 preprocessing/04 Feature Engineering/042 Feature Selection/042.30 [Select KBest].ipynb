{
 "cells": [
  {
   "cell_type": "code",
   "execution_count": 2,
   "metadata": {},
   "outputs": [],
   "source": [
    "from sklearn.feature_selection import SelectKBest , chi2 , f_classif \n",
    "#----------------------------------------------------\n",
    "\n",
    "## Feature Selection by KBest :\n",
    "\n",
    "# FeatureSelection = SelectKBest(score_func= chi2 ,k=3) # score_func can = f_classif \n",
    "# X = FeatureSelection.fit_transform(X, y)\n",
    "\n",
    "## showing X Dimension \n",
    "# print(f'X shape : {X.shape}')\n",
    "# print(f'Selected Features >> \\n{FeatureSelection.get_support()}')"
   ]
  },
  {
   "cell_type": "code",
   "execution_count": 3,
   "metadata": {},
   "outputs": [
    {
     "name": "stdout",
     "output_type": "stream",
     "text": [
      "X     shape : (1797, 64)\n",
      "new_X shape : (1797, 30)\n",
      "\n"
     ]
    }
   ],
   "source": [
    "from sklearn.datasets import load_digits\n",
    "\n",
    "X, y = load_digits(return_X_y=True)\n",
    "\n",
    "new_X = SelectKBest(chi2, k=30).fit_transform(X, y)\n",
    "\n",
    "print(f'X     shape : {X.shape}')\n",
    "print(f'new_X shape : {new_X.shape}\\n')"
   ]
  }
 ],
 "metadata": {
  "kernelspec": {
   "display_name": "base",
   "language": "python",
   "name": "python3"
  },
  "language_info": {
   "codemirror_mode": {
    "name": "ipython",
    "version": 3
   },
   "file_extension": ".py",
   "mimetype": "text/x-python",
   "name": "python",
   "nbconvert_exporter": "python",
   "pygments_lexer": "ipython3",
   "version": "3.11.7"
  }
 },
 "nbformat": 4,
 "nbformat_minor": 2
}
