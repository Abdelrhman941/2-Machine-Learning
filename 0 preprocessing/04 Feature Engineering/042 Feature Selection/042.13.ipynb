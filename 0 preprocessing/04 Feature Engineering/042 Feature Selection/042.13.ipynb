{
 "cells": [
  {
   "cell_type": "code",
   "execution_count": 1,
   "metadata": {},
   "outputs": [],
   "source": [
    "from sklearn.datasets import load_breast_cancer\n",
    "from sklearn.feature_selection import SelectPercentile, chi2\n",
    "\n",
    "X , y = load_breast_cancer(return_X_y= True)"
   ]
  },
  {
   "cell_type": "code",
   "execution_count": 2,
   "metadata": {},
   "outputs": [
    {
     "name": "stdout",
     "output_type": "stream",
     "text": [
      "X     shape : (569, 30)\n",
      "new_X shape : (569, 3)\n",
      "\n"
     ]
    }
   ],
   "source": [
    "sel = SelectPercentile(score_func = chi2 , percentile = 10).fit_transform(X,y)\n",
    "\n",
    "print(f'X     shape : {X.shape}')\n",
    "print(f'new_X shape : {sel.shape}\\n')"
   ]
  }
 ],
 "metadata": {
  "kernelspec": {
   "display_name": "base",
   "language": "python",
   "name": "python3"
  },
  "language_info": {
   "codemirror_mode": {
    "name": "ipython",
    "version": 3
   },
   "file_extension": ".py",
   "mimetype": "text/x-python",
   "name": "python",
   "nbconvert_exporter": "python",
   "pygments_lexer": "ipython3",
   "version": "3.11.7"
  }
 },
 "nbformat": 4,
 "nbformat_minor": 2
}
