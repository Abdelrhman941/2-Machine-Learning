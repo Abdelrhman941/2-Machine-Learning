{
 "cells": [
  {
   "cell_type": "code",
   "execution_count": 2,
   "metadata": {},
   "outputs": [],
   "source": [
    "import numpy as np\n",
    "from sklearn.datasets import load_digits\n",
    "from sklearn.feature_selection import SelectPercentile, chi2\n",
    "#----------------------------------------------------\n",
    "X, y = load_digits(return_X_y=True)"
   ]
  },
  {
   "cell_type": "code",
   "execution_count": 3,
   "metadata": {},
   "outputs": [
    {
     "name": "stdout",
     "output_type": "stream",
     "text": [
      "X     shape : (1797, 64)\n",
      "new_X shape : (1797, 7)\n",
      "\n"
     ]
    }
   ],
   "source": [
    "FeatureSelection = SelectPercentile(score_func =chi2, percentile=10)\n",
    "X_new = FeatureSelection.fit_transform(X, y)\n",
    "\n",
    "print(f'X     shape : {X.shape}')\n",
    "print(f'new_X shape : {X_new.shape}\\n')"
   ]
  },
  {
   "cell_type": "code",
   "execution_count": 4,
   "metadata": {},
   "outputs": [
    {
     "name": "stdout",
     "output_type": "stream",
     "text": [
      "New X Features >> \n",
      " ['pixel_3_6' 'pixel_4_1' 'pixel_4_2' 'pixel_5_2' 'pixel_5_3' 'pixel_6_6'\n",
      " 'pixel_7_6']\n"
     ]
    }
   ],
   "source": [
    "# Print names of selected features\n",
    "selected_feature_names = np.array(load_digits().feature_names)[FeatureSelection.get_support()]\n",
    "print(f'New X Features >> \\n {selected_feature_names}')"
   ]
  }
 ],
 "metadata": {
  "kernelspec": {
   "display_name": "base",
   "language": "python",
   "name": "python3"
  },
  "language_info": {
   "codemirror_mode": {
    "name": "ipython",
    "version": 3
   },
   "file_extension": ".py",
   "mimetype": "text/x-python",
   "name": "python",
   "nbconvert_exporter": "python",
   "pygments_lexer": "ipython3",
   "version": "3.11.7"
  }
 },
 "nbformat": 4,
 "nbformat_minor": 2
}
