{
 "cells": [
  {
   "cell_type": "code",
   "execution_count": 1,
   "metadata": {},
   "outputs": [
    {
     "data": {
      "text/plain": [
       "'\\nfrom sklearn.linear_model import LinearRegression\\nthismodel = LinearRegression()\\n'"
      ]
     },
     "execution_count": 1,
     "metadata": {},
     "output_type": "execute_result"
    }
   ],
   "source": [
    "from sklearn.feature_selection import SelectFromModel\n",
    "#----------------------------------------------------\n",
    "\n",
    "### Feature Selection by KBest :\n",
    "\n",
    "'''\n",
    "from sklearn.linear_model import LinearRegression\n",
    "thismodel = LinearRegression()\n",
    "'''\n",
    "###### !!!!!! don't use fit_transform here !!!!!! ###### ⚠️⚠️\n",
    "### to call get_support(): this method is not available on fit_transform data. \n",
    "### Instead, get_support() should be called on the SelectFromModel\n",
    "\n",
    "\n",
    "# FeatureSelection = SelectFromModel(estimator = the_model, max_features = None) # make sure that thismodel is well-defined\n",
    "# FeatureSelection.fit(X, y)\n",
    "# sel = FeatureSelection.transform(X)\n",
    "\n",
    "## showing X Dimension \n",
    "# print(f'X     shape : {X.shape}')\n",
    "# print(f'new_X shape : {sel.shape}\\n')\n",
    "# print(f'Selected Features >> \\n{FeatureSelection.get_support()}')"
   ]
  },
  {
   "cell_type": "code",
   "execution_count": 2,
   "metadata": {},
   "outputs": [
    {
     "name": "stdout",
     "output_type": "stream",
     "text": [
      "X     shape : (569, 30)\n",
      "new_X shape : (569, 9)\n",
      "\n",
      "Selected Features >> \n",
      "[ True False  True False False False  True  True False False False False\n",
      " False  True False False False False False False  True False  True  True\n",
      " False False False  True False False]\n"
     ]
    }
   ],
   "source": [
    "from sklearn.datasets import load_breast_cancer\n",
    "from sklearn.ensemble import RandomForestClassifier\n",
    "import numpy as np\n",
    "\n",
    "X , y = load_breast_cancer(return_X_y=True)\n",
    "\n",
    "the_model = RandomForestClassifier(n_estimators=20)\n",
    "FeatureSelection = SelectFromModel(estimator = the_model, max_features = None) # make sure that thismodel is well-defined\n",
    "FeatureSelection.fit(X, y)\n",
    "sel = FeatureSelection.transform(X)\n",
    "\n",
    "\n",
    "## showing X Dimension \n",
    "print(f'X     shape : {X.shape}')\n",
    "print(f'new_X shape : {sel.shape}\\n')\n",
    "print(f'Selected Features >> \\n{FeatureSelection.get_support()}')"
   ]
  },
  {
   "cell_type": "code",
   "execution_count": 3,
   "metadata": {},
   "outputs": [
    {
     "name": "stdout",
     "output_type": "stream",
     "text": [
      "New X Features >> \n",
      "['mean radius' 'mean perimeter' 'mean concavity' 'mean concave points'\n",
      " 'area error' 'worst radius' 'worst perimeter' 'worst area'\n",
      " 'worst concave points']\n"
     ]
    }
   ],
   "source": [
    "# Print names of selected features\n",
    "selected_feature_names = np.array(load_breast_cancer().feature_names)[FeatureSelection.get_support()]\n",
    "print(f'New X Features >> \\n{selected_feature_names}')"
   ]
  }
 ],
 "metadata": {
  "kernelspec": {
   "display_name": "base",
   "language": "python",
   "name": "python3"
  },
  "language_info": {
   "codemirror_mode": {
    "name": "ipython",
    "version": 3
   },
   "file_extension": ".py",
   "mimetype": "text/x-python",
   "name": "python",
   "nbconvert_exporter": "python",
   "pygments_lexer": "ipython3",
   "version": "3.11.7"
  }
 },
 "nbformat": 4,
 "nbformat_minor": 2
}
