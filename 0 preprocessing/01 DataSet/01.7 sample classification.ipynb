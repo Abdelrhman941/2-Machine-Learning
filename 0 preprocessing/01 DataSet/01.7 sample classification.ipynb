{
 "cells": [
  {
   "cell_type": "code",
   "execution_count": 1,
   "metadata": {},
   "outputs": [],
   "source": [
    "from sklearn.datasets import make_classification\n",
    "'''\n",
    "X, y = make_classification(n_samples = 100, n_features = 20, n_informative = 2, n_redundant = 2, n_repeated = 0, n_classes = 2, n_clusters_per_class = 2, weights = None,\n",
    "                        flip_y = 0.01, class_sep = 1.0, hypercube = True, shift = 0.0, Scale() = 1.0, shuffle = True, random_state = None)\n",
    "'''\n",
    "\n",
    "X , y = make_classification(n_samples = 100, n_features = 20, shuffle = True)"
   ]
  },
  {
   "cell_type": "code",
   "execution_count": 2,
   "metadata": {},
   "outputs": [
    {
     "name": "stdout",
     "output_type": "stream",
     "text": [
      "X Data  : \n",
      " [[-1.84427698  1.42894376 -0.63053134  0.7507056  -0.04181825  1.52516478\n",
      "   0.74949761  0.84341123  0.91016216 -2.03981451 -0.76452826  0.47826532\n",
      "  -1.06861895  1.35510929 -3.51943889 -0.20480096 -1.75061362 -0.3510012\n",
      "  -0.55446171  1.50970075]] \n",
      "\n",
      "X shape : (100, 20) \n"
     ]
    }
   ],
   "source": [
    "# X Data\n",
    "print(f'X Data  : \\n {X[:1]} \\n')\n",
    "print(f'X shape : {X.shape} ')"
   ]
  },
  {
   "cell_type": "code",
   "execution_count": 3,
   "metadata": {},
   "outputs": [
    {
     "name": "stdout",
     "output_type": "stream",
     "text": [
      "y Data  : \n",
      " [1 1 1 1 1 0 1 0 1 1 0 1 0 0 1 1 0 1 1 0 0 1 0 1 1 0 1 1 0 0 1 0 1 1 0 1 0\n",
      " 0 0 1 1 1 0 1 1 1 1 0 0 1 0 1 1 0 0 1 0 0 0 1 0 0 0 0 0 1 0 0 0 1 1 0 1 0\n",
      " 0 1 1 0 0 1 0 0 0 0 1 0 0 1 1 1 0 0 1 0 1 1 0 0 1 0] \n",
      "\n",
      "y shape : (100,) \n"
     ]
    }
   ],
   "source": [
    "# y Data\n",
    "print(f'y Data  : \\n {y[:]} \\n')\n",
    "print(f'y shape : {y.shape} ')"
   ]
  }
 ],
 "metadata": {
  "kernelspec": {
   "display_name": "base",
   "language": "python",
   "name": "python3"
  },
  "language_info": {
   "codemirror_mode": {
    "name": "ipython",
    "version": 3
   },
   "file_extension": ".py",
   "mimetype": "text/x-python",
   "name": "python",
   "nbconvert_exporter": "python",
   "pygments_lexer": "ipython3",
   "version": "3.11.7"
  }
 },
 "nbformat": 4,
 "nbformat_minor": 2
}
