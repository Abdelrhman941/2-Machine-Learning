{
 "cells": [
  {
   "cell_type": "code",
   "execution_count": 2,
   "metadata": {},
   "outputs": [
    {
     "name": "stdout",
     "output_type": "stream",
     "text": [
      "ShuffleSplit(n_splits=5, random_state=0, test_size=0.1, train_size=None)\n",
      "tain: [2 1 3 0 4] > test: [5]\n",
      "tain: [3 4 0 2 5] > test: [1]\n",
      "tain: [5 1 2 4 0] > test: [3]\n",
      "tain: [2 3 4 1 0] > test: [5]\n",
      "tain: [4 3 5 1 0] > test: [2]\n"
     ]
    }
   ],
   "source": [
    "import numpy as np\n",
    "from sklearn.model_selection import ShuffleSplit\n",
    "\n",
    "X = np.array([[1, 2], [3, 4], [5, 6], [7, 8], [3, 4], [5, 6]])\n",
    "y = np.array([1, 2, 1, 2, 1, 2])\n",
    "\n",
    "rs = ShuffleSplit(n_splits=5, test_size=.1, random_state=0)\n",
    "rs.get_n_splits(X)\n",
    "\n",
    "print(rs)\n",
    "\n",
    "for train_index, test_index in rs.split(X):\n",
    "    print(f\"tain: {train_index} > test: {test_index}\")"
   ]
  },
  {
   "cell_type": "code",
   "execution_count": 3,
   "metadata": {},
   "outputs": [
    {
     "name": "stdout",
     "output_type": "stream",
     "text": [
      "tain: [1 3 0] > test: [5 2]\n",
      "tain: [4 0 2] > test: [1 3]\n",
      "tain: [1 2 4] > test: [3 5]\n",
      "tain: [3 4 1] > test: [5 2]\n",
      "tain: [3 5 1] > test: [2 4]\n"
     ]
    }
   ],
   "source": [
    "rs = ShuffleSplit(n_splits=5, train_size=0.5, test_size=.25,random_state=0)\n",
    "\n",
    "for train_index, test_index in rs.split(X):\n",
    "    print(f\"tain: {train_index} > test: {test_index}\")"
   ]
  },
  {
   "cell_type": "code",
   "execution_count": 4,
   "metadata": {},
   "outputs": [
    {
     "name": "stdout",
     "output_type": "stream",
     "text": [
      "tain: [8 4 9 1 6 7 3 0 5] > test: [2]\n",
      "tain: [5 1 2 9 8 0 6 7 4] > test: [3]\n",
      "tain: [3 8 4 5 1 0 6 9 7] > test: [2]\n",
      "tain: [1 9 2 7 5 8 0 3 4] > test: [6]\n",
      "tain: [2 7 4 1 0 6 8 9 3] > test: [5]\n"
     ]
    }
   ],
   "source": [
    "X = np.arange(10)\n",
    "\n",
    "n=0.1\n",
    "#n=0.3\n",
    "#n=0.5\n",
    "#n=0.7\n",
    "#n=0.9\n",
    "\n",
    "ss = ShuffleSplit(n_splits=5, test_size=n,random_state=0)\n",
    "for train_index, test_index in ss.split(X):\n",
    "    print(f\"tain: {train_index} > test: {test_index}\")"
   ]
  }
 ],
 "metadata": {
  "kernelspec": {
   "display_name": "base",
   "language": "python",
   "name": "python3"
  },
  "language_info": {
   "codemirror_mode": {
    "name": "ipython",
    "version": 3
   },
   "file_extension": ".py",
   "mimetype": "text/x-python",
   "name": "python",
   "nbconvert_exporter": "python",
   "pygments_lexer": "ipython3",
   "version": "3.11.7"
  }
 },
 "nbformat": 4,
 "nbformat_minor": 2
}
