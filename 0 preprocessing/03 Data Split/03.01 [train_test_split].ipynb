{
 "cells": [
  {
   "cell_type": "code",
   "execution_count": 1,
   "metadata": {},
   "outputs": [],
   "source": [
    "import numpy as np\n",
    "from sklearn.model_selection import train_test_split\n",
    "#----------------------------------------------------\n",
    "\n",
    "## Splitting data:\n",
    "\n",
    "# X_train, X_test, y_train, y_test = train_test_split(X, y, test_size=0.33, random_state=44, shuffle =True)    \n",
    "#####################################\n",
    "## logical > test_size= [0.2:0.4]  ,   \n",
    "## random_state= number  >> to shuffle data when using different algorithms\n",
    "#####################################\n",
    "\n",
    "## Splitted Data:\n",
    "# print(f'X_train shape : {X_train.shape}')\n",
    "# print(f'X_test shape  : {X_test.shape}')\n",
    "# print(f'y_train shape : {y_train.shape}')\n",
    "# print(f'y_test shape  : {y_test.shape}')"
   ]
  },
  {
   "cell_type": "code",
   "execution_count": 2,
   "metadata": {},
   "outputs": [
    {
     "name": "stdout",
     "output_type": "stream",
     "text": [
      "[[0 1]\n",
      " [2 3]\n",
      " [4 5]\n",
      " [6 7]\n",
      " [8 9]]\n"
     ]
    },
    {
     "data": {
      "text/plain": [
       "[0, 1, 2, 3, 4]"
      ]
     },
     "execution_count": 2,
     "metadata": {},
     "output_type": "execute_result"
    }
   ],
   "source": [
    "X, y = np.arange(10).reshape((5, 2)), range(5)\n",
    "\n",
    "print(X)\n",
    "list(y)"
   ]
  },
  {
   "cell_type": "code",
   "execution_count": 7,
   "metadata": {},
   "outputs": [
    {
     "name": "stdout",
     "output_type": "stream",
     "text": [
      "X_train >> \n",
      "[[8 9]\n",
      " [4 5]\n",
      " [0 1]\n",
      " [6 7]]\n",
      "\n",
      "y_train >> \n",
      "[4, 2, 0, 3]\n",
      "\n",
      "X_test  >> \n",
      "[[2 3]]\n",
      "\n",
      "y_test  >> \n",
      "[1]\n",
      "\n"
     ]
    }
   ],
   "source": [
    "X_train, X_test, y_train, y_test = train_test_split(X, y, test_size=0.2, random_state=42) \n",
    "\n",
    "print(f\"X_train >> \\n{X_train}\\n\")\n",
    "print(f\"y_train >> \\n{y_train}\\n\")\n",
    "print(f\"X_test  >> \\n{X_test}\\n\")\n",
    "print(f\"y_test  >> \\n{y_test}\\n\")"
   ]
  },
  {
   "cell_type": "code",
   "execution_count": 5,
   "metadata": {},
   "outputs": [
    {
     "name": "stdout",
     "output_type": "stream",
     "text": [
      "X_train >> \n",
      "[[0 1]\n",
      " [8 9]\n",
      " [4 5]]\n",
      "\n",
      "y_train >> \n",
      "[0, 4, 2]\n",
      "\n",
      "X_test  >> \n",
      "[[6 7]\n",
      " [2 3]]\n",
      "\n",
      "y_test  >> \n",
      "[3, 1]\n",
      "\n"
     ]
    }
   ],
   "source": [
    "X_train, X_test, y_train, y_test = train_test_split(X,y, shuffle=True)\n",
    "print(f\"X_train >> \\n{X_train}\\n\")\n",
    "print(f\"y_train >> \\n{y_train}\\n\")\n",
    "print(f\"X_test  >> \\n{X_test}\\n\")\n",
    "print(f\"y_test  >> \\n{y_test}\\n\")\n",
    "\n",
    "# the numbers changes when U run"
   ]
  }
 ],
 "metadata": {
  "kernelspec": {
   "display_name": "base",
   "language": "python",
   "name": "python3"
  },
  "language_info": {
   "codemirror_mode": {
    "name": "ipython",
    "version": 3
   },
   "file_extension": ".py",
   "mimetype": "text/x-python",
   "name": "python",
   "nbconvert_exporter": "python",
   "pygments_lexer": "ipython3",
   "version": "3.11.7"
  }
 },
 "nbformat": 4,
 "nbformat_minor": 2
}
