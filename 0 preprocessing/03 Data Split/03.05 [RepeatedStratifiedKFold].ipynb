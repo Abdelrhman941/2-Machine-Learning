{
 "cells": [
  {
   "cell_type": "code",
   "execution_count": 1,
   "metadata": {},
   "outputs": [
    {
     "name": "stdout",
     "output_type": "stream",
     "text": [
      "TRAIN: [2 3] ,TEST: [0 1]\n",
      "----------\n",
      "X_train >> \n",
      "[[5 6]\n",
      " [7 8]] \n",
      "========\n",
      "y_train >> \n",
      "[0 1] \n",
      "========\n",
      "X_test  >> \n",
      "[[1 2]\n",
      " [3 4]] \n",
      "========\n",
      "y_test  >> \n",
      "[0 0]\n",
      "========================================\n",
      "TRAIN: [0 1] ,TEST: [2 3]\n",
      "----------\n",
      "X_train >> \n",
      "[[1 2]\n",
      " [3 4]] \n",
      "========\n",
      "y_train >> \n",
      "[0 0] \n",
      "========\n",
      "X_test  >> \n",
      "[[5 6]\n",
      " [7 8]] \n",
      "========\n",
      "y_test  >> \n",
      "[0 1]\n",
      "========================================\n",
      "TRAIN: [1 3] ,TEST: [0 2]\n",
      "----------\n",
      "X_train >> \n",
      "[[3 4]\n",
      " [7 8]] \n",
      "========\n",
      "y_train >> \n",
      "[0 1] \n",
      "========\n",
      "X_test  >> \n",
      "[[1 2]\n",
      " [5 6]] \n",
      "========\n",
      "y_test  >> \n",
      "[0 0]\n",
      "========================================\n",
      "TRAIN: [0 2] ,TEST: [1 3]\n",
      "----------\n",
      "X_train >> \n",
      "[[1 2]\n",
      " [5 6]] \n",
      "========\n",
      "y_train >> \n",
      "[0 0] \n",
      "========\n",
      "X_test  >> \n",
      "[[3 4]\n",
      " [7 8]] \n",
      "========\n",
      "y_test  >> \n",
      "[0 1]\n",
      "========================================\n"
     ]
    },
    {
     "name": "stderr",
     "output_type": "stream",
     "text": [
      "c:\\Users\\Al-arab\\anaconda3\\Lib\\site-packages\\sklearn\\model_selection\\_split.py:700: UserWarning: The least populated class in y has only 1 members, which is less than n_splits=2.\n",
      "  warnings.warn(\n",
      "c:\\Users\\Al-arab\\anaconda3\\Lib\\site-packages\\sklearn\\model_selection\\_split.py:700: UserWarning: The least populated class in y has only 1 members, which is less than n_splits=2.\n",
      "  warnings.warn(\n"
     ]
    }
   ],
   "source": [
    "import numpy as np\n",
    "from sklearn.model_selection import RepeatedStratifiedKFold\n",
    "\n",
    "X=np.array([[1, 2], \n",
    "            [3, 4], \n",
    "            [5, 6], \n",
    "            [7, 8]])\n",
    "y=np.array([0,\n",
    "            0,\n",
    "            0,\n",
    "            1])\n",
    "\n",
    "rskf = RepeatedStratifiedKFold(n_splits=2, n_repeats=2,random_state=36851234)\n",
    "\n",
    "for train_index, test_index in rskf.split(X,y):\n",
    "    print(f\"TRAIN: {train_index} ,TEST: {test_index}\")\n",
    "    print(\"----------\")\n",
    "    X_train, X_test = X[train_index], X[test_index]\n",
    "    y_train, y_test = y[train_index], y[test_index]\n",
    "    print(f\"X_train >> \\n{X_train}\",\"\\n========\")\n",
    "    print(f\"y_train >> \\n{y_train}\",\"\\n========\")\n",
    "    print(f\"X_test  >> \\n{X_test}\",\"\\n========\")\n",
    "    print(f\"y_test  >> \\n{y_test}\")\n",
    "    print('========================================')"
   ]
  }
 ],
 "metadata": {
  "kernelspec": {
   "display_name": "base",
   "language": "python",
   "name": "python3"
  },
  "language_info": {
   "codemirror_mode": {
    "name": "ipython",
    "version": 3
   },
   "file_extension": ".py",
   "mimetype": "text/x-python",
   "name": "python",
   "nbconvert_exporter": "python",
   "pygments_lexer": "ipython3",
   "version": "3.11.7"
  }
 },
 "nbformat": 4,
 "nbformat_minor": 2
}
