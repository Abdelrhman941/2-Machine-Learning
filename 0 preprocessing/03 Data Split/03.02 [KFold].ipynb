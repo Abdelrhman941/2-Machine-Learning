{
 "cells": [
  {
   "cell_type": "code",
   "execution_count": 1,
   "metadata": {},
   "outputs": [],
   "source": [
    "import numpy as np\n",
    "from sklearn.model_selection import KFold\n",
    "#----------------------------------------------------\n",
    "\n",
    "## KFold Splitting data:\n",
    "# kf = KFold(n_splits=4, random_state=44, shuffle =True)\n",
    "\n",
    "## KFold Data:\n",
    "# for train_index, test_index in kf.split(X):\n",
    "#     print(f'Train Data : \\n{train_index}')\n",
    "#     print(f'Test  Data : \\n{test_index}')\n",
    "#     print('-------------------------------')\n",
    "#     X_train, X_test = X[train_index], X[test_index]\n",
    "#     y_train, y_test = y[train_index], y[test_index]\n",
    "#     print(f'X_train shape : {X_train.shape}')\n",
    "#     print(f'X_test  shape : {X_test.shape}')\n",
    "#     print(f'y_train shape : {y_train.shape}')\n",
    "#     print(f'y_test  shape : {y_test.shape}')\n",
    "#     print('========================================')"
   ]
  },
  {
   "cell_type": "code",
   "execution_count": 2,
   "metadata": {},
   "outputs": [
    {
     "data": {
      "text/plain": [
       "4"
      ]
     },
     "execution_count": 2,
     "metadata": {},
     "output_type": "execute_result"
    }
   ],
   "source": [
    "X=np.array([[1, 2],\n",
    "            [3, 4], \n",
    "            [5, 6], \n",
    "            [7, 8]])\n",
    "y=np.array([11, \n",
    "            22, \n",
    "            33, \n",
    "            44])\n",
    "\n",
    "num = 4\n",
    "kf = KFold(n_splits=num)\n",
    "kf.get_n_splits(X)"
   ]
  },
  {
   "cell_type": "code",
   "execution_count": 3,
   "metadata": {},
   "outputs": [
    {
     "name": "stdout",
     "output_type": "stream",
     "text": [
      "TRAIN: [1 2 3] ,TEST: [0]\n",
      "-------------------------------\n",
      "X_train shape : (3, 2)\n",
      "X_test  shape : (1, 2)\n",
      "y_train shape : (3,)\n",
      "y_test  shape : (1,)\n",
      "========================================\n",
      "TRAIN: [0 2 3] ,TEST: [1]\n",
      "-------------------------------\n",
      "X_train shape : (3, 2)\n",
      "X_test  shape : (1, 2)\n",
      "y_train shape : (3,)\n",
      "y_test  shape : (1,)\n",
      "========================================\n",
      "TRAIN: [0 1 3] ,TEST: [2]\n",
      "-------------------------------\n",
      "X_train shape : (3, 2)\n",
      "X_test  shape : (1, 2)\n",
      "y_train shape : (3,)\n",
      "y_test  shape : (1,)\n",
      "========================================\n",
      "TRAIN: [0 1 2] ,TEST: [3]\n",
      "-------------------------------\n",
      "X_train shape : (3, 2)\n",
      "X_test  shape : (1, 2)\n",
      "y_train shape : (3,)\n",
      "y_test  shape : (1,)\n",
      "========================================\n"
     ]
    }
   ],
   "source": [
    "KFold(n_splits=num, random_state=None, shuffle=False)\n",
    "\n",
    "for train_index, test_index in kf.split(X):\n",
    "    print(f\"TRAIN: {train_index} ,TEST: {test_index}\")\n",
    "    print('-------------------------------')\n",
    "    X_train, X_test = X[train_index], X[test_index]\n",
    "    y_train, y_test = y[train_index], y[test_index]\n",
    "    print(f'X_train shape : {X_train.shape}')\n",
    "    print(f'X_test  shape : {X_test.shape}')\n",
    "    print(f'y_train shape : {y_train.shape}')\n",
    "    print(f'y_test  shape : {y_test.shape}')\n",
    "    print('========================================')"
   ]
  }
 ],
 "metadata": {
  "kernelspec": {
   "display_name": "base",
   "language": "python",
   "name": "python3"
  },
  "language_info": {
   "codemirror_mode": {
    "name": "ipython",
    "version": 3
   },
   "file_extension": ".py",
   "mimetype": "text/x-python",
   "name": "python",
   "nbconvert_exporter": "python",
   "pygments_lexer": "ipython3",
   "version": "3.11.7"
  }
 },
 "nbformat": 4,
 "nbformat_minor": 2
}
