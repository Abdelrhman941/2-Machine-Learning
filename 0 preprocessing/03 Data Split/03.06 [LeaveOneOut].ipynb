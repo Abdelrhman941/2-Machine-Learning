{
 "cells": [
  {
   "cell_type": "code",
   "execution_count": 3,
   "metadata": {},
   "outputs": [
    {
     "data": {
      "text/plain": [
       "LeaveOneOut()"
      ]
     },
     "execution_count": 3,
     "metadata": {},
     "output_type": "execute_result"
    }
   ],
   "source": [
    "import numpy as np\n",
    "from sklearn.model_selection import LeaveOneOut\n",
    "\n",
    "X = np.array([1, 2, 3, 4])\n",
    "y = np.array([5,6,7,8])\n",
    "\n",
    "loo = LeaveOneOut()\n",
    "loo.get_n_splits(X) \n",
    "LeaveOneOut()"
   ]
  },
  {
   "cell_type": "code",
   "execution_count": 4,
   "metadata": {},
   "outputs": [
    {
     "name": "stdout",
     "output_type": "stream",
     "text": [
      "TRAIN: [1 2 3] ,TEST: [0]\n",
      "----------\n",
      "X_train >> \n",
      "[2 3 4] \n",
      "========\n",
      "y_train >> \n",
      "[6 7 8] \n",
      "========\n",
      "X_test  >> \n",
      "[1] \n",
      "========\n",
      "y_test  >> \n",
      "[5]\n",
      "========================================\n",
      "TRAIN: [0 2 3] ,TEST: [1]\n",
      "----------\n",
      "X_train >> \n",
      "[1 3 4] \n",
      "========\n",
      "y_train >> \n",
      "[5 7 8] \n",
      "========\n",
      "X_test  >> \n",
      "[2] \n",
      "========\n",
      "y_test  >> \n",
      "[6]\n",
      "========================================\n",
      "TRAIN: [0 1 3] ,TEST: [2]\n",
      "----------\n",
      "X_train >> \n",
      "[1 2 4] \n",
      "========\n",
      "y_train >> \n",
      "[5 6 8] \n",
      "========\n",
      "X_test  >> \n",
      "[3] \n",
      "========\n",
      "y_test  >> \n",
      "[7]\n",
      "========================================\n",
      "TRAIN: [0 1 2] ,TEST: [3]\n",
      "----------\n",
      "X_train >> \n",
      "[1 2 3] \n",
      "========\n",
      "y_train >> \n",
      "[5 6 7] \n",
      "========\n",
      "X_test  >> \n",
      "[4] \n",
      "========\n",
      "y_test  >> \n",
      "[8]\n",
      "========================================\n"
     ]
    }
   ],
   "source": [
    "for train_index, test_index in loo.split(X):            # train=(len-1) ,test=(1)\n",
    "    print(f\"TRAIN: {train_index} ,TEST: {test_index}\")\n",
    "    print(\"----------\")\n",
    "    X_train, X_test = X[train_index], X[test_index]\n",
    "    y_train, y_test = y[train_index], y[test_index]\n",
    "    print(f\"X_train >> \\n{X_train}\",\"\\n========\")\n",
    "    print(f\"y_train >> \\n{y_train}\",\"\\n========\")\n",
    "    print(f\"X_test  >> \\n{X_test}\",\"\\n========\")\n",
    "    print(f\"y_test  >> \\n{y_test}\")\n",
    "    print('========================================')"
   ]
  },
  {
   "cell_type": "code",
   "execution_count": 5,
   "metadata": {},
   "outputs": [
    {
     "name": "stdout",
     "output_type": "stream",
     "text": [
      "tain: [1 2 3] > test: [0]\n",
      "tain: [0 2 3] > test: [1]\n",
      "tain: [0 1 3] > test: [2]\n",
      "tain: [0 1 2] > test: [3]\n"
     ]
    }
   ],
   "source": [
    "X = [1, 2, 3, 4]\n",
    "loo = LeaveOneOut()\n",
    "for train, test in loo.split(X):\n",
    "    print(f\"tain: {train} > test: {test}\")"
   ]
  }
 ],
 "metadata": {
  "kernelspec": {
   "display_name": "base",
   "language": "python",
   "name": "python3"
  },
  "language_info": {
   "codemirror_mode": {
    "name": "ipython",
    "version": 3
   },
   "file_extension": ".py",
   "mimetype": "text/x-python",
   "name": "python",
   "nbconvert_exporter": "python",
   "pygments_lexer": "ipython3",
   "version": "3.11.7"
  }
 },
 "nbformat": 4,
 "nbformat_minor": 2
}
