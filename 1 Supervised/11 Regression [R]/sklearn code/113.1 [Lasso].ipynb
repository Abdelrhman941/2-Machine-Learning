{
 "cells": [
  {
   "cell_type": "code",
   "execution_count": 1,
   "metadata": {},
   "outputs": [
    {
     "data": {
      "text/plain": [
       "\"\\n#sklearn.linear_model.Lasso(alpha=1.0, fit_intercept=True, precompute= False,\\n                        copy_X=True, max_iter=1000, tol=0.0001,\\n                        warm_start=False, positive=False, random_state=None,selection='cyclic')\\n\""
      ]
     },
     "execution_count": 1,
     "metadata": {},
     "output_type": "execute_result"
    }
   ],
   "source": [
    "from sklearn.linear_model import Lasso                                                          # type: ignore\n",
    "from sklearn.model_selection import train_test_split                                            # type: ignore\n",
    "from sklearn.metrics import mean_absolute_error , mean_squared_error , median_absolute_error    # type: ignore\n",
    "#----------------------------------------------------\n",
    "'''\n",
    "#sklearn.linear_model.Lasso(alpha=1.0, fit_intercept=True, precompute= False,\n",
    "                        copy_X=True, max_iter=1000, tol=0.0001,\n",
    "                        warm_start=False, positive=False, random_state=None,selection='cyclic')\n",
    "'''\n",
    "\n",
    "# LassoRegressionModel = Lasso(alpha=1.0,random_state=33,normalize=False)\n",
    "# LassoRegressionModel.fit(X_train, y_train)\n",
    "\n",
    "## Calculating Details:\n",
    "# print(f'Lasso Regression Train Score : {LassoRegressionModel.score(X_train, y_train)}')\n",
    "# print(f'Lasso Regression Test  Score : {LassoRegressionModel.score(X_test, y_test)}\\n')\n",
    "# print(f'Lasso Regression Coef : \\n{LassoRegressionModel.coef_}\\n')\n",
    "# print(f'Lasso Regression intercept : {LassoRegressionModel.intercept_}')\n",
    "# print('----------------------------------------------------')\n",
    "\n",
    "## Calculating Prediction:\n",
    "# y_pred = LassoRegressionModel.predict(X_test)\n",
    "# print(f'Predicted Value for Lasso Regression : \\n{ y_pred[:10]}\\n')\n",
    "# print(f'Actual    Value for Lasso Regression : \\n{ y_test[:10]}')\n",
    "\n",
    "\n",
    "## Calculating Mean Absolute Error:\n",
    "# MAEValue = mean_absolute_error(y_test, y_pred, multioutput='uniform_average')   # it can be raw_values\n",
    "# print(f'Mean  Absolute Error Value : {MAEValue}')\n",
    "# ##########################################################\n",
    "# #Calculating Mean Squared Error\n",
    "# MSEValue = mean_squared_error(y_test, y_pred, multioutput='uniform_average')    # it can be raw_values\n",
    "# print(f'Mean   Squared Error Value : {MSEValue}')\n",
    "# ##########################################################\n",
    "# #Calculating Median Squared Error\n",
    "# MdSEValue = median_absolute_error(y_test, y_pred)\n",
    "# print(f'Median Squared Error Value : {MdSEValue}')"
   ]
  },
  {
   "attachments": {
    "image.png": {
     "image/png": "[encoded data removed]"
    }
   },
   "cell_type": "markdown",
   "metadata": {},
   "source": [
    "![image.png](attachment:image.png)"
   ]
  },
  {
   "cell_type": "code",
   "execution_count": 2,
   "metadata": {},
   "outputs": [],
   "source": [
    "from sklearn.datasets import load_wine      # type: ignore\n",
    "\n",
    "X , y = load_wine(return_X_y=True)"
   ]
  },
  {
   "cell_type": "code",
   "execution_count": 3,
   "metadata": {},
   "outputs": [
    {
     "name": "stdout",
     "output_type": "stream",
     "text": [
      "X_train shape: (119, 13)\n",
      "X_test  shape: (59, 13)\n",
      "y_train shape: (119,)\n",
      "y_test  shape: (59,)\n"
     ]
    }
   ],
   "source": [
    "# Splitting data:\n",
    "X_train, X_test, y_train, y_test = train_test_split(X, y, test_size=0.33, random_state=44, shuffle =True)\n",
    "print(f\"X_train shape: {X_train.shape}\")\n",
    "print(f\"X_test  shape: {X_test.shape}\")\n",
    "print(f\"y_train shape: {y_train.shape}\")\n",
    "print(f\"y_test  shape: {y_test.shape}\")"
   ]
  },
  {
   "cell_type": "code",
   "execution_count": 4,
   "metadata": {},
   "outputs": [
    {
     "name": "stdout",
     "output_type": "stream",
     "text": [
      "Lasso Regression Train Score : 0.8801545394127518\n",
      "Lasso Regression Test  Score : 0.9025478182481573\n",
      "\n",
      "Lasso Regression Coef : \n",
      "[-0.11152526  0.03925673 -0.          0.02435691 -0.00273106  0.\n",
      " -0.28506775 -0.          0.          0.09584009 -0.         -0.2200525\n",
      " -0.00078827]\n",
      "\n",
      "Lasso Regression intercept : 3.3603673691958913\n"
     ]
    }
   ],
   "source": [
    "# Applying Lasso Regression Model:\n",
    "LassoRegressionModel = Lasso(alpha=0.01,random_state=33)\n",
    "LassoRegressionModel.fit(X_train, y_train)\n",
    "\n",
    "## Calculating Details:\n",
    "print(f'Lasso Regression Train Score : {LassoRegressionModel.score(X_train, y_train)}')\n",
    "print(f'Lasso Regression Test  Score : {LassoRegressionModel.score(X_test, y_test)}\\n')\n",
    "print(f'Lasso Regression Coef : \\n{LassoRegressionModel.coef_}\\n')\n",
    "print(f'Lasso Regression intercept : {LassoRegressionModel.intercept_}')"
   ]
  },
  {
   "cell_type": "code",
   "execution_count": 5,
   "metadata": {},
   "outputs": [
    {
     "name": "stdout",
     "output_type": "stream",
     "text": [
      "Predicted Value for Lasso Regression : \n",
      "[-0.2382641   1.10480931  0.09901773  2.11676244  1.96264471  0.17876681\n",
      "  0.80184646  0.84594584  0.4317554   0.84638542]\n",
      "\n",
      "Actual    Value for Lasso Regression : \n",
      "[0 1 0 2 2 0 1 1 0 1]\n"
     ]
    }
   ],
   "source": [
    "# Calculating Prediction:\n",
    "y_pred = LassoRegressionModel.predict(X_test)\n",
    "print(f'Predicted Value for Lasso Regression : \\n{ y_pred[:10]}\\n')\n",
    "print(f'Actual    Value for Lasso Regression : \\n{ y_test[:10]}')"
   ]
  },
  {
   "cell_type": "code",
   "execution_count": 6,
   "metadata": {},
   "outputs": [
    {
     "name": "stdout",
     "output_type": "stream",
     "text": [
      "Mean   Absolute Error Value : 0.18134176988001896\n",
      "Mean   Squared  Error Value : 0.05643883895768883\n",
      "Median Squared  Error Value : 0.1536145824848143\n"
     ]
    }
   ],
   "source": [
    "# Calculating Mean Absolute Error:\n",
    "MAEValue = mean_absolute_error(y_test, y_pred, multioutput='uniform_average')   # it can be raw_values\n",
    "print(f'Mean   Absolute Error Value : {MAEValue}')\n",
    "##########################################################\n",
    "#Calculating Mean Squared Error\n",
    "MSEValue = mean_squared_error(y_test, y_pred, multioutput='uniform_average')    # it can be raw_values\n",
    "print(f'Mean   Squared  Error Value : {MSEValue}')\n",
    "##########################################################\n",
    "#Calculating Median Squared Error\n",
    "MdSEValue = median_absolute_error(y_test, y_pred)\n",
    "print(f'Median Squared  Error Value : {MdSEValue}')"
   ]
  }
 ],
 "metadata": {
  "kernelspec": {
   "display_name": "base",
   "language": "python",
   "name": "python3"
  },
  "language_info": {
   "codemirror_mode": {
    "name": "ipython",
    "version": 3
   },
   "file_extension": ".py",
   "mimetype": "text/x-python",
   "name": "python",
   "nbconvert_exporter": "python",
   "pygments_lexer": "ipython3",
   "version": "3.12.3"
  }
 },
 "nbformat": 4,
 "nbformat_minor": 2
}
