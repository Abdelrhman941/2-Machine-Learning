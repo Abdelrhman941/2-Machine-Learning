{
 "cells": [
  {
   "cell_type": "code",
   "execution_count": 1,
   "metadata": {},
   "outputs": [
    {
     "data": {
      "text/html": [
       "<div>\n",
       "<style scoped>\n",
       "    .dataframe tbody tr th:only-of-type {\n",
       "        vertical-align: middle;\n",
       "    }\n",
       "\n",
       "    .dataframe tbody tr th {\n",
       "        vertical-align: top;\n",
       "    }\n",
       "\n",
       "    .dataframe thead th {\n",
       "        text-align: right;\n",
       "    }\n",
       "</style>\n",
       "<table border=\"1\" class=\"dataframe\">\n",
       "  <thead>\n",
       "    <tr style=\"text-align: right;\">\n",
       "      <th></th>\n",
       "      <th>high_GPA</th>\n",
       "      <th>math_SAT</th>\n",
       "      <th>verb_SAT</th>\n",
       "      <th>comp_GPA</th>\n",
       "      <th>univ_GPA</th>\n",
       "    </tr>\n",
       "  </thead>\n",
       "  <tbody>\n",
       "    <tr>\n",
       "      <th>0</th>\n",
       "      <td>3.45</td>\n",
       "      <td>643</td>\n",
       "      <td>589</td>\n",
       "      <td>3.76</td>\n",
       "      <td>3.52</td>\n",
       "    </tr>\n",
       "    <tr>\n",
       "      <th>1</th>\n",
       "      <td>2.78</td>\n",
       "      <td>558</td>\n",
       "      <td>512</td>\n",
       "      <td>2.87</td>\n",
       "      <td>2.91</td>\n",
       "    </tr>\n",
       "    <tr>\n",
       "      <th>2</th>\n",
       "      <td>2.52</td>\n",
       "      <td>583</td>\n",
       "      <td>503</td>\n",
       "      <td>2.54</td>\n",
       "      <td>2.40</td>\n",
       "    </tr>\n",
       "    <tr>\n",
       "      <th>3</th>\n",
       "      <td>3.67</td>\n",
       "      <td>685</td>\n",
       "      <td>602</td>\n",
       "      <td>3.83</td>\n",
       "      <td>3.47</td>\n",
       "    </tr>\n",
       "    <tr>\n",
       "      <th>4</th>\n",
       "      <td>3.24</td>\n",
       "      <td>592</td>\n",
       "      <td>538</td>\n",
       "      <td>3.29</td>\n",
       "      <td>3.47</td>\n",
       "    </tr>\n",
       "    <tr>\n",
       "      <th>5</th>\n",
       "      <td>2.10</td>\n",
       "      <td>562</td>\n",
       "      <td>486</td>\n",
       "      <td>2.64</td>\n",
       "      <td>2.37</td>\n",
       "    </tr>\n",
       "    <tr>\n",
       "      <th>6</th>\n",
       "      <td>2.82</td>\n",
       "      <td>573</td>\n",
       "      <td>548</td>\n",
       "      <td>2.86</td>\n",
       "      <td>2.40</td>\n",
       "    </tr>\n",
       "    <tr>\n",
       "      <th>7</th>\n",
       "      <td>2.36</td>\n",
       "      <td>559</td>\n",
       "      <td>536</td>\n",
       "      <td>2.03</td>\n",
       "      <td>2.24</td>\n",
       "    </tr>\n",
       "    <tr>\n",
       "      <th>8</th>\n",
       "      <td>2.42</td>\n",
       "      <td>552</td>\n",
       "      <td>583</td>\n",
       "      <td>2.81</td>\n",
       "      <td>3.02</td>\n",
       "    </tr>\n",
       "    <tr>\n",
       "      <th>9</th>\n",
       "      <td>3.51</td>\n",
       "      <td>617</td>\n",
       "      <td>591</td>\n",
       "      <td>3.41</td>\n",
       "      <td>3.32</td>\n",
       "    </tr>\n",
       "  </tbody>\n",
       "</table>\n",
       "</div>"
      ],
      "text/plain": [
       "   high_GPA  math_SAT  verb_SAT  comp_GPA  univ_GPA\n",
       "0      3.45       643       589      3.76      3.52\n",
       "1      2.78       558       512      2.87      2.91\n",
       "2      2.52       583       503      2.54      2.40\n",
       "3      3.67       685       602      3.83      3.47\n",
       "4      3.24       592       538      3.29      3.47\n",
       "5      2.10       562       486      2.64      2.37\n",
       "6      2.82       573       548      2.86      2.40\n",
       "7      2.36       559       536      2.03      2.24\n",
       "8      2.42       552       583      2.81      3.02\n",
       "9      3.51       617       591      3.41      3.32"
      ]
     },
     "execution_count": 1,
     "metadata": {},
     "output_type": "execute_result"
    }
   ],
   "source": [
    "import pandas as pd                                                                                 # type: ignore\n",
    "import matplotlib.pyplot as plt                                                                     # type: ignore\n",
    "from sklearn.model_selection import train_test_split                                                # type: ignore\n",
    "from sklearn.metrics import mean_absolute_error , mean_squared_error ,median_absolute_error         # type: ignore\n",
    "from sklearn.linear_model import LinearRegression                                                   # type: ignore\n",
    "\n",
    "dataset = pd.read_csv('../datasets/stag.csv')\n",
    "dataset.head(10)"
   ]
  },
  {
   "cell_type": "code",
   "execution_count": 2,
   "metadata": {},
   "outputs": [
    {
     "name": "stdout",
     "output_type": "stream",
     "text": [
      ">> X >> \n",
      "     high_GPA\n",
      "0        3.45\n",
      "1        2.78\n",
      "2        2.52\n",
      "3        3.67\n",
      "4        3.24\n",
      "..        ...\n",
      "100      3.76\n",
      "101      3.49\n",
      "102      3.07\n",
      "103      2.19\n",
      "104      3.46\n",
      "\n",
      "[105 rows x 1 columns]\n",
      "\n",
      ">> y >> \n",
      "0      3.52\n",
      "1      2.91\n",
      "2      2.40\n",
      "3      3.47\n",
      "4      3.47\n",
      "       ... \n",
      "100    3.64\n",
      "101    3.42\n",
      "102    3.25\n",
      "103    2.76\n",
      "104    3.41\n",
      "Name: univ_GPA, Length: 105, dtype: float64\n"
     ]
    }
   ],
   "source": [
    "X = dataset.iloc[:,:1] \n",
    "y = dataset.iloc[:, -1]\n",
    "\n",
    "print(f\">> X >> \\n{X}\\n\")\n",
    "print(f\">> y >> \\n{y}\")"
   ]
  },
  {
   "cell_type": "code",
   "execution_count": 3,
   "metadata": {},
   "outputs": [
    {
     "name": "stdout",
     "output_type": "stream",
     "text": [
      "X_train shape = (84, 1) , X_train >> \n",
      "     high_GPA\n",
      "68       3.29\n",
      "3        3.67\n",
      "74       3.48\n",
      "82       3.72\n",
      "75       3.62\n",
      "..        ...\n",
      "101      3.49\n",
      "67       2.24\n",
      "64       3.94\n",
      "47       2.66\n",
      "44       2.65\n",
      "\n",
      "[84 rows x 1 columns]\n",
      "========\n",
      "X_test  shape = (21, 1)  , X_test  >> \n",
      "     high_GPA\n",
      "26       2.64\n",
      "61       3.24\n",
      "2        2.52\n",
      "62       3.29\n",
      "85       3.28\n",
      "48       3.21\n",
      "16       3.91\n",
      "100      3.76\n",
      "56       3.14\n",
      "45       2.41\n",
      "66       3.52\n",
      "97       3.19\n",
      "51       2.84\n",
      "13       3.46\n",
      "7        2.36\n",
      "30       3.56\n",
      "22       2.46\n",
      "24       3.61\n",
      "33       4.00\n",
      "8        2.42\n",
      "43       2.83\n",
      "========\n",
      "y_train shape = (84,) , y_train >> \n",
      "68     3.29\n",
      "3      3.47\n",
      "74     3.39\n",
      "82     3.71\n",
      "75     3.51\n",
      "       ... \n",
      "101    3.42\n",
      "67     2.34\n",
      "64     3.71\n",
      "47     3.08\n",
      "44     3.28\n",
      "Name: univ_GPA, Length: 84, dtype: float64\n",
      "========\n",
      "y_test  shape = (21,)  , y_test  >> \n",
      "26     2.40\n",
      "61     3.38\n",
      "2      2.40\n",
      "62     3.41\n",
      "85     3.48\n",
      "48     3.01\n",
      "16     3.73\n",
      "100    3.64\n",
      "56     3.40\n",
      "45     3.19\n",
      "66     3.37\n",
      "97     3.28\n",
      "51     2.40\n",
      "13     3.71\n",
      "7      2.24\n",
      "30     3.62\n",
      "22     3.28\n",
      "24     3.61\n",
      "33     3.76\n",
      "8      3.02\n",
      "43     3.39\n",
      "Name: univ_GPA, dtype: float64\n"
     ]
    }
   ],
   "source": [
    "## Splitting the dataset into the Training set and Test set:\n",
    "X_train, X_test, y_train, y_test = train_test_split(X, y, test_size = 0.2, random_state = 0)\n",
    "print(f\"X_train shape = {X_train.shape} , X_train >> \\n{X_train}\\n========\")\n",
    "print(f\"X_test  shape = {X_test.shape}  , X_test  >> \\n{X_test}\\n========\")\n",
    "print(f\"y_train shape = {y_train.shape} , y_train >> \\n{y_train}\\n========\")\n",
    "print(f\"y_test  shape = {y_test.shape}  , y_test  >> \\n{y_test}\")"
   ]
  },
  {
   "cell_type": "code",
   "execution_count": 4,
   "metadata": {},
   "outputs": [
    {
     "name": "stdout",
     "output_type": "stream",
     "text": [
      "Linear Regression Train Score : 0.6156641228726631\n",
      "Linear Regression Test  Score : 0.5726696397623814\n",
      "\n",
      "Linear Regression Coef : \n",
      "[0.66758336]\n",
      "\n",
      "Linear Regression intercept : 1.1144532324766558\n",
      "\n"
     ]
    }
   ],
   "source": [
    "## Fitting Simple Linear Regression to the Training set:\n",
    "regressor = LinearRegression()\n",
    "regressor.fit(X_train, y_train)\n",
    "\n",
    "## Calculating Details:\n",
    "print(f'Linear Regression Train Score : {regressor.score(X_train, y_train)}')\n",
    "print(f'Linear Regression Test  Score : {regressor.score(X_test, y_test)}\\n')\n",
    "\n",
    "print(f'Linear Regression Coef : \\n{regressor.coef_}\\n')\n",
    "print(f'Linear Regression intercept : {regressor.intercept_}\\n')"
   ]
  },
  {
   "cell_type": "code",
   "execution_count": 5,
   "metadata": {},
   "outputs": [
    {
     "name": "stdout",
     "output_type": "stream",
     "text": [
      "y_pred >> \n",
      "[2.87687329 3.27742331 2.79676329 3.31080248 3.30412664]\n",
      "y_test >> \n",
      "26    2.40\n",
      "61    3.38\n",
      "2     2.40\n",
      "62    3.41\n",
      "85    3.48\n",
      "Name: univ_GPA, dtype: float64\n"
     ]
    }
   ],
   "source": [
    "## Predicting the Test set results\n",
    "y_pred = regressor.predict(X_test)\n",
    "print(f\"y_pred >> \\n{y_pred[:5]}\") \n",
    "print(f\"y_test >> \\n{y_test[:5]}\") "
   ]
  },
  {
   "cell_type": "code",
   "execution_count": 11,
   "metadata": {},
   "outputs": [
    {
     "name": "stdout",
     "output_type": "stream",
     "text": [
      "Mean   Absolute Error Value  : 0.242411714035095\n",
      "Mean   Squared  Error Value  : 0.0928471623423128\n",
      "Median Squared  Error Value  : 0.1893350279967594\n"
     ]
    }
   ],
   "source": [
    "# Calculating Mean Absolute Error:\n",
    "MAEValue = mean_absolute_error(y_test, y_pred, multioutput='uniform_average')   # it can be raw_values\n",
    "print(f'Mean   Absolute Error Value  : {MAEValue}')\n",
    "##########################################################\n",
    "#Calculating Mean Squared Error\n",
    "MSEValue = mean_squared_error(y_test, y_pred, multioutput='uniform_average')    # it can be raw_values\n",
    "print(f'Mean   Squared  Error Value  : {MSEValue}')\n",
    "##########################################################\n",
    "#Calculating Median Squared Error\n",
    "MdSEValue = median_absolute_error(y_test, y_pred)\n",
    "print(f'Median Squared  Error Value  : {MdSEValue}')"
   ]
  },
  {
   "cell_type": "code",
   "execution_count": 7,
   "metadata": {},
   "outputs": [
    {
     "data": {
      "image/png": "[encoded data removed]",
      "text/plain": [
       "<Figure size 640x480 with 1 Axes>"
      ]
     },
     "metadata": {},
     "output_type": "display_data"
    }
   ],
   "source": [
    "# Visualizing the Training set results:\n",
    "\n",
    "plt.scatter(X_train, y_train, color = 'red')\n",
    "plt.plot(X_train, regressor.predict(X_train), color = 'blue')\n",
    "plt.title('SAT degrees')\n",
    "plt.xlabel('high_GPA')\n",
    "plt.ylabel('univ_GPA')\n",
    "plt.show()"
   ]
  },
  {
   "cell_type": "code",
   "execution_count": 8,
   "metadata": {},
   "outputs": [
    {
     "data": {
      "image/png": "[encoded data removed]",
      "text/plain": [
       "<Figure size 640x480 with 1 Axes>"
      ]
     },
     "metadata": {},
     "output_type": "display_data"
    }
   ],
   "source": [
    "# Visualizing the test set results:\n",
    "\n",
    "plt.scatter(X_test, y_test, color = 'green')\n",
    "plt.plot(X_test, regressor.predict(X_test), color = 'blue')\n",
    "plt.title('SAT degrees')\n",
    "plt.xlabel('high_GPA')\n",
    "plt.ylabel('univ_GPA')\n",
    "plt.show()"
   ]
  }
 ],
 "metadata": {
  "kernelspec": {
   "display_name": "base",
   "language": "python",
   "name": "python3"
  },
  "language_info": {
   "codemirror_mode": {
    "name": "ipython",
    "version": 3
   },
   "file_extension": ".py",
   "mimetype": "text/x-python",
   "name": "python",
   "nbconvert_exporter": "python",
   "pygments_lexer": "ipython3",
   "version": "3.12.3"
  }
 },
 "nbformat": 4,
 "nbformat_minor": 2
}
