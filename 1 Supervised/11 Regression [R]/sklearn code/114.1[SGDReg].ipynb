{
 "cells": [
  {
   "cell_type": "code",
   "execution_count": 1,
   "metadata": {},
   "outputs": [
    {
     "data": {
      "text/plain": [
       "\"\\nsklearn.linear_model.SGDRegressor(loss='squared_loss', penalty='12', alpha=0.0001,\\n                                l1_ratio=0.15, fit_intercept=True, max_iter=None,\\n                                tol=None, shuffle=True, verbose=0, epsilon=0.1,\\n                                random_state=None, learning_rate='invscaling',\\n                                eta0=0.01, power_t=0.25, early_stopping=False,\\n                                validation_fraction=0.1, n_iter_no_change=5,\\n                                warm_start=False, average=False, n_iter=None)\\n\\n# penalty = ['l1', 'l2', 'elasticnet']\\n# loss    = ['epsilon_insensitive', 'squared_error', 'squared_epsilon_insensitive', 'huber']\\n\""
      ]
     },
     "execution_count": 1,
     "metadata": {},
     "output_type": "execute_result"
    }
   ],
   "source": [
    "from sklearn.linear_model import SGDRegressor                                                   # type: ignore\n",
    "from sklearn.model_selection import train_test_split                                            # type: ignore\n",
    "from sklearn.metrics import mean_absolute_error , mean_squared_error , median_absolute_error    # type: ignore\n",
    "#----------------------------------------------------\n",
    "'''\n",
    "sklearn.linear_model.SGDRegressor(loss='squared_loss', penalty='12', alpha=0.0001,\n",
    "                                l1_ratio=0.15, fit_intercept=True, max_iter=None,\n",
    "                                tol=None, shuffle=True, verbose=0, epsilon=0.1,\n",
    "                                random_state=None, learning_rate='invscaling',\n",
    "                                eta0=0.01, power_t=0.25, early_stopping=False,\n",
    "                                validation_fraction=0.1, n_iter_no_change=5,\n",
    "                                warm_start=False, average=False, n_iter=None)\n",
    "\n",
    "# penalty = ['l1', 'l2', 'elasticnet']\n",
    "# loss    = ['epsilon_insensitive', 'squared_error', 'squared_epsilon_insensitive', 'huber']\n",
    "'''\n",
    "\n",
    "# SGDRegressionModel = SGDRegressor(alpha=0.1,random_state=33,penalty='l2',loss = 'huber')\n",
    "# SGDRegressionModel.fit(X_train, y_train)\n",
    "\n",
    "\n",
    "## Calculating Details:\n",
    "# print(f'SGD Regression Train Score : {SGDRegressionModel.score(X_train, y_train)}')\n",
    "# print(f'SGD Regression Test  Score : {SGDRegressionModel.score(X_test, y_test)}\\n')\n",
    "# print(f'SGD Regression Coef : \\n{SGDRegressionModel.coef_}\\n')\n",
    "# print(f'SGD Regression intercept : {SGDRegressionModel.intercept_}')\n",
    "# print('----------------------------------------------------')\n",
    "\n",
    "\n",
    "## Calculating Prediction:\n",
    "# y_pred = SGDRegressionModel.predict(X_test)\n",
    "# print(f'Predicted Value for SGD Regression : \\n{ y_pred[:10]}\\n')\n",
    "# print(f'Actual    Value for SGD Regression : \\n{ y_test[:10]}\\n')\n",
    "\n",
    "## Calculating Mean Absolute Error:\n",
    "# MAEValue = mean_absolute_error(y_test, y_pred, multioutput='uniform_average')   # it can be raw_values\n",
    "# print(f'Mean  Absolute Error Value : {MAEValue}')\n",
    "# ##########################################################\n",
    "# #Calculating Mean Squared Error\n",
    "# MSEValue = mean_squared_error(y_test, y_pred, multioutput='uniform_average')    # it can be raw_values\n",
    "# print(f'Mean   Squared Error Value : {MSEValue}')\n",
    "# ##########################################################\n",
    "# #Calculating Median Squared Error\n",
    "# MdSEValue = median_absolute_error(y_test, y_pred)\n",
    "# print(f'Median Squared Error Value : {MdSEValue}')"
   ]
  },
  {
   "cell_type": "code",
   "execution_count": 2,
   "metadata": {},
   "outputs": [],
   "source": [
    "from sklearn.datasets import load_breast_cancer\n",
    "\n",
    "X, y = load_breast_cancer(return_X_y=True)\n",
    "\n",
    "# splitting:\n",
    "X_train,X_test,y_train,y_test=train_test_split(X,y, test_size=0.3, random_state=31)"
   ]
  },
  {
   "cell_type": "code",
   "execution_count": 3,
   "metadata": {},
   "outputs": [
    {
     "name": "stdout",
     "output_type": "stream",
     "text": [
      "SGD Regression Train Score : -14023.939067823361\n",
      "SGD Regression Test  Score : -13302.926515954161\n",
      "\n",
      "SGD Regression Coef : \n",
      "[ 4.87748775e-04 -1.36992636e-02 -4.48889633e-03 -5.35454086e-02\n",
      " -6.59041544e-05 -4.29712022e-04 -2.95073201e-04 -5.87322998e-05\n",
      "  1.47976840e-05 -8.90406111e-05 -4.76297294e-05 -2.88238666e-03\n",
      " -2.80293231e-03 -5.71037302e-02 -2.63012438e-05 -1.78301836e-04\n",
      " -1.74205307e-04 -4.54487844e-05 -1.03882944e-04 -1.62208509e-05\n",
      "  2.90610120e-03 -1.66985425e-02  1.18953067e-02 -1.33778314e-02\n",
      " -9.64371866e-05 -1.51575433e-03 -1.39336716e-03 -2.50162246e-04\n",
      " -3.02889273e-04 -1.99145665e-04]\n",
      "\n",
      "SGD Regression intercept : [0.00236675]\n"
     ]
    }
   ],
   "source": [
    "SGDRegressionModel = SGDRegressor(alpha=0.1,random_state=33,penalty='l2',loss = 'huber')\n",
    "SGDRegressionModel.fit(X_train, y_train)\n",
    "\n",
    "## Calculating Details:\n",
    "print(f'SGD Regression Train Score : {SGDRegressionModel.score(X_train, y_train)}')\n",
    "print(f'SGD Regression Test  Score : {SGDRegressionModel.score(X_test, y_test)}\\n')\n",
    "print(f'SGD Regression Coef : \\n{SGDRegressionModel.coef_}\\n')\n",
    "print(f'SGD Regression intercept : {SGDRegressionModel.intercept_}')"
   ]
  },
  {
   "cell_type": "code",
   "execution_count": 4,
   "metadata": {},
   "outputs": [
    {
     "name": "stdout",
     "output_type": "stream",
     "text": [
      "Predicted Value for SGD Regression : \n",
      "[-45.55167512 -38.43946709 -44.82853684 -42.13148423 -28.23017883\n",
      " -38.77027497 -27.74506769 -87.92746465 -33.8820681  -51.6544594 ]\n",
      "\n",
      "Actual    Value for SGD Regression : \n",
      "[1 1 1 0 1 1 1 0 1 0]\n",
      "\n"
     ]
    }
   ],
   "source": [
    "# Calculating Prediction:\n",
    "y_pred = SGDRegressionModel.predict(X_test)\n",
    "print(f'Predicted Value for SGD Regression : \\n{ y_pred[:10]}\\n')\n",
    "print(f'Actual    Value for SGD Regression : \\n{ y_test[:10]}\\n')"
   ]
  },
  {
   "cell_type": "code",
   "execution_count": 5,
   "metadata": {},
   "outputs": [
    {
     "name": "stdout",
     "output_type": "stream",
     "text": [
      "Mean   Absolute Error Value : 48.61729291524275\n",
      "Mean   Squared  Error Value : 3074.7216372496914\n",
      "Median Squared  Error Value : 39.784747101785044\n"
     ]
    }
   ],
   "source": [
    "# Calculating Mean Absolute Error:\n",
    "MAEValue = mean_absolute_error(y_test, y_pred, multioutput='uniform_average')   # it can be raw_values\n",
    "print(f'Mean   Absolute Error Value : {MAEValue}')\n",
    "##########################################################\n",
    "#Calculating Mean Squared Error\n",
    "MSEValue = mean_squared_error(y_test, y_pred, multioutput='uniform_average')    # it can be raw_values\n",
    "print(f'Mean   Squared  Error Value : {MSEValue}')\n",
    "##########################################################\n",
    "#Calculating Median Squared Error\n",
    "MdSEValue = median_absolute_error(y_test, y_pred)\n",
    "print(f'Median Squared  Error Value : {MdSEValue}')"
   ]
  }
 ],
 "metadata": {
  "kernelspec": {
   "display_name": "base",
   "language": "python",
   "name": "python3"
  },
  "language_info": {
   "codemirror_mode": {
    "name": "ipython",
    "version": 3
   },
   "file_extension": ".py",
   "mimetype": "text/x-python",
   "name": "python",
   "nbconvert_exporter": "python",
   "pygments_lexer": "ipython3",
   "version": "3.12.3"
  }
 },
 "nbformat": 4,
 "nbformat_minor": 2
}
