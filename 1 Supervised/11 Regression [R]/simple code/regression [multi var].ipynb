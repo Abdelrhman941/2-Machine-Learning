{
 "cells": [
  {
   "cell_type": "code",
   "execution_count": 1,
   "id": "39d84790",
   "metadata": {
    "scrolled": false
   },
   "outputs": [
    {
     "name": "stdout",
     "output_type": "stream",
     "text": [
      "data = \n",
      "    Size  Bedrooms   Price\n",
      "0  2104         3  399900\n",
      "1  1600         3  329900\n",
      "2  2400         3  369000\n",
      "3  1416         2  232000\n",
      "4  3000         4  539900\n",
      "5  1985         4  299900\n",
      "6  1534         3  314900\n",
      "7  1427         3  198999\n",
      "8  1380         3  212000\n",
      "9  1494         3  242500\n",
      "**************************************\n",
      "data.shape =  (47, 3)\n",
      "**************************************\n",
      "data.describe = \n",
      "        Size  Bedrooms   Price\n",
      "count    47        47      47\n",
      "mean   2000         3  340412\n",
      "std     794         0  125039\n",
      "min     852         1  169900\n",
      "25%    1432         3  249900\n",
      "50%    1888         3  299900\n",
      "75%    2269         4  384450\n",
      "max    4478         5  699900\n"
     ]
    }
   ],
   "source": [
    "import numpy as np                  # type: ignore\n",
    "import pandas as pd                 # type: ignore\n",
    "import matplotlib.pyplot as plt     # type: ignore\n",
    "\n",
    "data2 = pd.read_csv(\"ex1data2.txt\", header=None, names=['Size', 'Bedrooms', 'Price'])\n",
    "print('data = \\n', data2.head(10))\n",
    "print('**************************************')\n",
    "print('data.shape = ', data2.shape)\n",
    "print('**************************************')\n",
    "print('data.describe = \\n', data2.describe().astype(int))"
   ]
  },
  {
   "cell_type": "markdown",
   "id": "9c41eb93",
   "metadata": {},
   "source": [
    "> ## **rescaling data**"
   ]
  },
  {
   "cell_type": "code",
   "execution_count": 2,
   "id": "f6604a77",
   "metadata": {
    "scrolled": true
   },
   "outputs": [
    {
     "name": "stdout",
     "output_type": "stream",
     "text": [
      "data after normalization =\n",
      "   Size  Bedrooms  Price\n",
      "0  0.13     -0.22   0.48\n",
      "1 -0.50     -0.22  -0.08\n",
      "2  0.50     -0.22   0.23\n",
      "3 -0.74     -1.54  -0.87\n",
      "4  1.26      1.09   1.60\n",
      "5 -0.02      1.09  -0.32\n",
      "6 -0.59     -0.22  -0.20\n",
      "7 -0.72     -0.22  -1.13\n",
      "8 -0.78     -0.22  -1.03\n",
      "9 -0.64     -0.22  -0.78\n"
     ]
    }
   ],
   "source": [
    "data2 = (data2 - data2.mean()) / data2.std()\n",
    "print('data after normalization =')\n",
    "print(data2.head(10).round(2))"
   ]
  },
  {
   "cell_type": "code",
   "execution_count": 3,
   "id": "73bc8aab",
   "metadata": {},
   "outputs": [],
   "source": [
    "data2.insert(0, 'Ones', 1)"
   ]
  },
  {
   "cell_type": "markdown",
   "id": "bbb14b92",
   "metadata": {},
   "source": [
    "> ### separate X (training data) from y (target variable)"
   ]
  },
  {
   "cell_type": "code",
   "execution_count": 4,
   "id": "10cb529e",
   "metadata": {},
   "outputs": [
    {
     "name": "stdout",
     "output_type": "stream",
     "text": [
      "X2 data =\n",
      "    Ones  Size  Bedrooms\n",
      "0     1  0.13     -0.22\n",
      "1     1 -0.50     -0.22\n",
      "2     1  0.50     -0.22\n",
      "3     1 -0.74     -1.54\n",
      "4     1  1.26      1.09\n",
      "5     1 -0.02      1.09\n",
      "6     1 -0.59     -0.22\n",
      "7     1 -0.72     -0.22\n",
      "8     1 -0.78     -0.22\n",
      "9     1 -0.64     -0.22 \n",
      "\n",
      "y2 data =\n",
      "    Price\n",
      "0   0.48\n",
      "1  -0.08\n",
      "2   0.23\n",
      "3  -0.87\n",
      "4   1.60\n",
      "5  -0.32\n",
      "6  -0.20\n",
      "7  -1.13\n",
      "8  -1.03\n",
      "9  -0.78\n"
     ]
    }
   ],
   "source": [
    "cols = data2.shape[1]    \n",
    "X2 = data2.iloc[: , 0:cols-1]\n",
    "y2 = data2.iloc[: , cols-1:cols]\n",
    "\n",
    "print('X2 data =\\n' ,X2.head(10).round(2),\"\\n\")\n",
    "print('y2 data =\\n' ,y2.head(10).round(2))"
   ]
  },
  {
   "cell_type": "markdown",
   "id": "f73ddd2e",
   "metadata": {},
   "source": [
    "> ### convert to matrices and initialize theta"
   ]
  },
  {
   "cell_type": "code",
   "execution_count": 5,
   "id": "1c6eec61",
   "metadata": {
    "scrolled": true
   },
   "outputs": [
    {
     "name": "stdout",
     "output_type": "stream",
     "text": [
      "X2 :\n",
      " [[ 1.    0.13 -0.22]\n",
      " [ 1.   -0.5  -0.22]\n",
      " [ 1.    0.5  -0.22]\n",
      " [ 1.   -0.74 -1.54]\n",
      " [ 1.    1.26  1.09]\n",
      " [ 1.   -0.02  1.09]\n",
      " [ 1.   -0.59 -0.22]\n",
      " [ 1.   -0.72 -0.22]\n",
      " [ 1.   -0.78 -0.22]\n",
      " [ 1.   -0.64 -0.22]\n",
      " [ 1.   -0.08  1.09]\n",
      " [ 1.   -0.   -0.22]\n",
      " [ 1.   -0.14 -0.22]\n",
      " [ 1.    3.12  2.4 ]\n",
      " [ 1.   -0.92 -0.22]\n",
      " [ 1.    0.38  1.09]\n",
      " [ 1.   -0.86 -1.54]\n",
      " [ 1.   -0.96 -0.22]\n",
      " [ 1.    0.77  1.09]\n",
      " [ 1.    1.3   1.09]\n",
      " [ 1.   -0.29 -0.22]\n",
      " [ 1.   -0.14 -1.54]\n",
      " [ 1.   -0.5  -0.22]\n",
      " [ 1.   -0.05  1.09]\n",
      " [ 1.    2.38 -0.22]\n",
      " [ 1.   -1.13 -0.22]\n",
      " [ 1.   -0.68 -0.22]\n",
      " [ 1.    0.66 -0.22]\n",
      " [ 1.    0.25 -0.22]\n",
      " [ 1.    0.8  -0.22]\n",
      " [ 1.   -0.2  -1.54]\n",
      " [ 1.   -1.26 -2.85]\n",
      " [ 1.    0.05  1.09]\n",
      " [ 1.    1.43 -0.22]\n",
      " [ 1.   -0.24  1.09]\n",
      " [ 1.   -0.71 -0.22]\n",
      " [ 1.   -0.96 -0.22]\n",
      " [ 1.    0.17  1.09]\n",
      " [ 1.    2.79  1.09]\n",
      " [ 1.    0.2   1.09]\n",
      " [ 1.   -0.42 -1.54]\n",
      " [ 1.    0.3  -0.22]\n",
      " [ 1.    0.71  1.09]\n",
      " [ 1.   -1.01 -0.22]\n",
      " [ 1.   -1.45 -1.54]\n",
      " [ 1.   -0.19  1.09]\n",
      " [ 1.   -1.   -0.22]]\n",
      "X2.shape =  (47, 3) \n",
      "\n",
      "y2 :\n",
      " [[ 0.47574687]\n",
      " [-0.08407444]\n",
      " [ 0.22862575]\n",
      " [-0.86702453]\n",
      " [ 1.59538948]\n",
      " [-0.32399786]\n",
      " [-0.20403615]\n",
      " [-1.13094828]\n",
      " [-1.02697347]\n",
      " [-0.78305133]\n",
      " [-0.80305294]\n",
      " [ 0.05268191]\n",
      " [-0.08328269]\n",
      " [ 2.87498104]\n",
      " [-0.64389575]\n",
      " [ 0.87561923]\n",
      " [-0.32399786]\n",
      " [-1.12374258]\n",
      " [ 1.27627534]\n",
      " [ 2.06803861]\n",
      " [-0.69987788]\n",
      " [-0.68308324]\n",
      " [-0.77985235]\n",
      " [-0.64389575]\n",
      " [ 1.86730269]\n",
      " [-0.72387022]\n",
      " [ 0.99238196]\n",
      " [ 1.02837047]\n",
      " [ 1.07635515]\n",
      " [-0.32399786]\n",
      " [ 0.0758745 ]\n",
      " [-1.363666  ]\n",
      " [-0.20403615]\n",
      " [ 1.91528737]\n",
      " [-0.43596212]\n",
      " [-0.72387022]\n",
      " [-0.88381916]\n",
      " [ 0.03668701]\n",
      " [ 1.66816625]\n",
      " [-0.42716493]\n",
      " [ 0.22462702]\n",
      " [-0.08407444]\n",
      " [-0.21123385]\n",
      " [-0.33119556]\n",
      " [-1.28369153]\n",
      " [-0.32399786]\n",
      " [-0.80704367]]\n",
      "y2.shape =  (47, 1) \n",
      "\n",
      "theta2 : [0 0 0]\n",
      "theta2.shape =  (3,)\n"
     ]
    }
   ],
   "source": [
    "X2 = np.array(X2.round(2))\n",
    "y2 = np.array(y2)\n",
    "theta2 = np.array([0,0,0])\n",
    "\n",
    "print('X2 :\\n',X2)\n",
    "print('X2.shape = ' , X2.shape,'\\n')\n",
    "\n",
    "print('y2 :\\n',y2)\n",
    "print('y2.shape = ' , y2.shape,'\\n')\n",
    "print('theta2 :',theta2)\n",
    "print('theta2.shape = ',theta2.shape)"
   ]
  },
  {
   "cell_type": "code",
   "execution_count": 6,
   "id": "60fa3833",
   "metadata": {},
   "outputs": [],
   "source": [
    "def computeCost(X, y, theta):\n",
    "    inner = np.power(((X * theta.T) - y), 2)\n",
    "    return (np.sum(inner) / (2 * len(X))).round(1)\n",
    "\n",
    "def gradientDescent(X, y, theta, alpha, iters):\n",
    "    temp = np.matrix(np.zeros(theta.shape))\n",
    "    parameters = int(theta.ravel().shape[1])\n",
    "    cost = np.zeros(iters)\n",
    "    \n",
    "    for i in range(iters):\n",
    "        error = (X * theta.T) - y\n",
    "        for j in range(parameters):\n",
    "            term = np.multiply(error, X[:,j])\n",
    "            temp[0,j] = theta[0,j] - ((alpha / len(X)) * np.sum(term))\n",
    "        theta = temp\n",
    "        cost[i] = computeCost(X, y, theta)\n",
    "    return theta.round(3), cost.round(1)"
   ]
  },
  {
   "cell_type": "code",
   "execution_count": 7,
   "id": "0117d37d",
   "metadata": {},
   "outputs": [
    {
     "name": "stdout",
     "output_type": "stream",
     "text": [
      "g2 =  [[-0.     0.879 -0.048]] \n",
      "\n",
      "cost2 = \n",
      " [0.4 0.3 0.3 0.3 0.2 0.2 0.2 0.2 0.2 0.2 0.2 0.2 0.2 0.2 0.2 0.2 0.2 0.2\n",
      " 0.1 0.1 0.1 0.1 0.1 0.1 0.1 0.1 0.1 0.1 0.1 0.1 0.1 0.1 0.1 0.1 0.1 0.1\n",
      " 0.1 0.1 0.1 0.1 0.1 0.1 0.1 0.1 0.1 0.1 0.1 0.1 0.1 0.1 0.1 0.1 0.1 0.1\n",
      " 0.1 0.1 0.1 0.1 0.1 0.1 0.1 0.1 0.1 0.1 0.1 0.1 0.1 0.1 0.1 0.1 0.1 0.1\n",
      " 0.1 0.1 0.1 0.1 0.1 0.1 0.1 0.1 0.1 0.1 0.1 0.1 0.1 0.1 0.1 0.1 0.1 0.1\n",
      " 0.1 0.1 0.1 0.1 0.1 0.1 0.1 0.1 0.1 0.1] \n",
      "\n",
      "computeCost =  0.1\n"
     ]
    }
   ],
   "source": [
    "# initialize variables for learning rate and iterations :\n",
    "alpha , iters = 0.1 , 100\n",
    "\n",
    "# perform linear regression on the data set :\n",
    "g2, cost2 = gradientDescent(np.matrix(X2), np.matrix(y2), np.matrix(theta2), alpha, iters)\n",
    "\n",
    "# get the cost (error) of the model\n",
    "this_cost = computeCost(np.matrix(X2), np.matrix(y2), g2)\n",
    "print('g2 = ' , g2,\"\\n\")\n",
    "print('cost2 = \\n' , cost2[:] ,\"\\n\")\n",
    "print('computeCost = ' , this_cost)"
   ]
  },
  {
   "cell_type": "markdown",
   "id": "a7ac8182",
   "metadata": {},
   "source": [
    "> ### **get best fit line**"
   ]
  },
  {
   "cell_type": "code",
   "execution_count": 8,
   "id": "e23388b8",
   "metadata": {},
   "outputs": [
    {
     "name": "stdout",
     "output_type": "stream",
     "text": [
      "x :\n",
      " [-1.45 -1.4  -1.35 -1.31 -1.26 -1.21 -1.17 -1.12 -1.08 -1.03 -0.98 -0.94\n",
      " -0.89 -0.85 -0.8  -0.75 -0.71 -0.66 -0.62 -0.57 -0.52 -0.48 -0.43 -0.39\n",
      " -0.34 -0.29 -0.25 -0.2  -0.15 -0.11 -0.06 -0.02  0.03  0.08  0.12  0.17\n",
      "  0.21  0.26  0.31  0.35  0.4   0.44  0.49  0.54  0.58  0.63  0.67  0.72\n",
      "  0.77  0.81  0.86  0.91  0.95  1.    1.04  1.09  1.14  1.18  1.23  1.27\n",
      "  1.32  1.37  1.41  1.46  1.5   1.55  1.6   1.64  1.69  1.73  1.78  1.83\n",
      "  1.87  1.92  1.97  2.01  2.06  2.1   2.15  2.2   2.24  2.29  2.33  2.38\n",
      "  2.43  2.47  2.52  2.56  2.61  2.66  2.7   2.75  2.79  2.84  2.89  2.93\n",
      "  2.98  3.03  3.07  3.12] \n",
      "\n",
      "g :  [[-0.     0.879 -0.048]] \n",
      "\n",
      "best fit line :\n",
      " [-1.27 -1.23 -1.19 -1.15 -1.11 -1.06 -1.03 -0.98 -0.95 -0.91 -0.86 -0.83\n",
      " -0.78 -0.75 -0.7  -0.66 -0.62 -0.58 -0.54 -0.5  -0.46 -0.42 -0.38 -0.34\n",
      " -0.3  -0.25 -0.22 -0.18 -0.13 -0.1  -0.05 -0.02  0.03  0.07  0.11  0.15\n",
      "  0.18  0.23  0.27  0.31  0.35  0.39  0.43  0.47  0.51  0.55  0.59  0.63\n",
      "  0.68  0.71  0.76  0.8   0.84  0.88  0.91  0.96  1.    1.04  1.08  1.12\n",
      "  1.16  1.2   1.24  1.28  1.32  1.36  1.41  1.44  1.49  1.52  1.56  1.61\n",
      "  1.64  1.69  1.73  1.77  1.81  1.85  1.89  1.93  1.97  2.01  2.05  2.09\n",
      "  2.14  2.17  2.22  2.25  2.29  2.34  2.37  2.42  2.45  2.5   2.54  2.58\n",
      "  2.62  2.66  2.7   2.74]\n"
     ]
    }
   ],
   "source": [
    "x = np.linspace(data2.Size.min(), data2.Size.max(), 100).round(2)\n",
    "print('x :\\n',x,\"\\n\")\n",
    "print('g : ',g2,\"\\n\")\n",
    "\n",
    "bfl = (g2[0, 0] + (g2[0, 1] * x)).round(2)\n",
    "print('best fit line :\\n',bfl)"
   ]
  },
  {
   "cell_type": "code",
   "execution_count": 9,
   "id": "ddf71e0c",
   "metadata": {},
   "outputs": [
    {
     "data": {
      "image/png": "[encoded data removed]",
      "text/plain": [
       "<Figure size 500x500 with 1 Axes>"
      ]
     },
     "metadata": {},
     "output_type": "display_data"
    }
   ],
   "source": [
    "fig, ax = plt.subplots(figsize=(5,5))\n",
    "ax.plot(x, bfl, 'r', label='Prediction')\n",
    "ax.scatter(data2.Size, data2.Price, label='Training Data')\n",
    "ax.legend(loc=2)\n",
    "ax.set_xlabel('Size')\n",
    "ax.set_ylabel('Price')\n",
    "ax.set_title('Size vs. Price')\n",
    "\n",
    "plt.show()"
   ]
  },
  {
   "cell_type": "code",
   "execution_count": 10,
   "id": "52ade37c",
   "metadata": {},
   "outputs": [
    {
     "name": "stdout",
     "output_type": "stream",
     "text": [
      "x :\n",
      " [-2.85 -2.8  -2.75 -2.69 -2.64 -2.59 -2.53 -2.48 -2.43 -2.37 -2.32 -2.27\n",
      " -2.21 -2.16 -2.11 -2.06 -2.   -1.95 -1.9  -1.84 -1.79 -1.74 -1.68 -1.63\n",
      " -1.58 -1.52 -1.47 -1.42 -1.37 -1.31 -1.26 -1.21 -1.15 -1.1  -1.05 -0.99\n",
      " -0.94 -0.89 -0.83 -0.78 -0.73 -0.67 -0.62 -0.57 -0.52 -0.46 -0.41 -0.36\n",
      " -0.3  -0.25 -0.2  -0.14 -0.09 -0.04  0.02  0.07  0.12  0.17  0.23  0.28\n",
      "  0.33  0.39  0.44  0.49  0.55  0.6   0.65  0.71  0.76  0.81  0.86  0.92\n",
      "  0.97  1.02  1.08  1.13  1.18  1.24  1.29  1.34  1.4   1.45  1.5   1.55\n",
      "  1.61  1.66  1.71  1.77  1.82  1.87  1.93  1.98  2.03  2.09  2.14  2.19\n",
      "  2.25  2.3   2.35  2.4 ] \n",
      "\n",
      "g :\n",
      " [[-0.     0.879 -0.048]] \n",
      "\n",
      "best fit line :\n",
      " [-2.51 -2.46 -2.42 -2.36 -2.32 -2.28 -2.22 -2.18 -2.14 -2.08 -2.04 -2.\n",
      " -1.94 -1.9  -1.85 -1.81 -1.76 -1.71 -1.67 -1.62 -1.57 -1.53 -1.48 -1.43\n",
      " -1.39 -1.34 -1.29 -1.25 -1.2  -1.15 -1.11 -1.06 -1.01 -0.97 -0.92 -0.87\n",
      " -0.83 -0.78 -0.73 -0.69 -0.64 -0.59 -0.54 -0.5  -0.46 -0.4  -0.36 -0.32\n",
      " -0.26 -0.22 -0.18 -0.12 -0.08 -0.04  0.02  0.06  0.11  0.15  0.2   0.25\n",
      "  0.29  0.34  0.39  0.43  0.48  0.53  0.57  0.62  0.67  0.71  0.76  0.81\n",
      "  0.85  0.9   0.95  0.99  1.04  1.09  1.13  1.18  1.23  1.27  1.32  1.36\n",
      "  1.42  1.46  1.5   1.56  1.6   1.64  1.7   1.74  1.78  1.84  1.88  1.93\n",
      "  1.98  2.02  2.07  2.11]\n"
     ]
    }
   ],
   "source": [
    "# get best fit line for Bedrooms vs. Price\n",
    "x = np.linspace(data2.Bedrooms.min(), data2.Bedrooms.max(), 100).round(2)\n",
    "print('x :\\n',x,\"\\n\")\n",
    "print('g :\\n',g2,\"\\n\")\n",
    "\n",
    "bfl = g2[0, 0] + (g2[0, 1] * x).round(2)\n",
    "print('best fit line :\\n',bfl)"
   ]
  },
  {
   "cell_type": "code",
   "execution_count": 11,
   "id": "8c4b0645",
   "metadata": {},
   "outputs": [
    {
     "data": {
      "image/png": "[encoded data removed]",
      "text/plain": [
       "<Figure size 500x500 with 1 Axes>"
      ]
     },
     "metadata": {},
     "output_type": "display_data"
    }
   ],
   "source": [
    "# draw the line for Bedrooms vs. Price\n",
    "fig, ax = plt.subplots(figsize=(5,5))\n",
    "ax.plot(x, bfl, 'r', label='Prediction')\n",
    "ax.scatter(data2.Bedrooms, data2.Price, label='Traning Data')\n",
    "ax.legend(loc=2)\n",
    "ax.set_xlabel('Bedrooms')\n",
    "ax.set_ylabel('Price')\n",
    "ax.set_title('Size vs. Price')\n",
    "\n",
    "plt.show()"
   ]
  },
  {
   "cell_type": "code",
   "execution_count": 12,
   "id": "eb185119",
   "metadata": {},
   "outputs": [
    {
     "data": {
      "image/png": "[encoded data removed]",
      "text/plain": [
       "<Figure size 500x500 with 1 Axes>"
      ]
     },
     "metadata": {},
     "output_type": "display_data"
    }
   ],
   "source": [
    "# draw error graph\n",
    "fig, ax = plt.subplots(figsize=(5,5))\n",
    "ax.plot(np.arange(iters), cost2, 'r')\n",
    "ax.set_xlabel('Iterations')\n",
    "ax.set_ylabel('Cost')\n",
    "ax.set_title('Error vs. Training Epoch')\n",
    "\n",
    "plt.show()"
   ]
  }
 ],
 "metadata": {
  "kernelspec": {
   "display_name": "base",
   "language": "python",
   "name": "python3"
  },
  "language_info": {
   "codemirror_mode": {
    "name": "ipython",
    "version": 3
   },
   "file_extension": ".py",
   "mimetype": "text/x-python",
   "name": "python",
   "nbconvert_exporter": "python",
   "pygments_lexer": "ipython3",
   "version": "3.12.3"
  }
 },
 "nbformat": 4,
 "nbformat_minor": 5
}
