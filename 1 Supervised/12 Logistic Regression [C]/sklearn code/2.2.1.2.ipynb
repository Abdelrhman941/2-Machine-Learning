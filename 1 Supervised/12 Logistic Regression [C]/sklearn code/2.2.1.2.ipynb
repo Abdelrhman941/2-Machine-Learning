{
 "cells": [
  {
   "cell_type": "code",
   "execution_count": 2,
   "metadata": {},
   "outputs": [],
   "source": [
    "from sklearn.datasets import load_iris                  # type: ignore\n",
    "from sklearn.linear_model import LogisticRegression     # type: ignore\n",
    "\n",
    "X, y = load_iris(return_X_y=True)"
   ]
  },
  {
   "cell_type": "code",
   "execution_count": 3,
   "metadata": {},
   "outputs": [
    {
     "name": "stdout",
     "output_type": "stream",
     "text": [
      "predict values   : \n",
      "[0 0 0 0 0]\n",
      "predict estimate : \n",
      "[[9.68985186e-01 3.10117558e-02 3.05825491e-06]\n",
      " [9.33087367e-01 6.68976029e-02 1.50298506e-05]\n",
      " [9.57530674e-01 4.24606696e-02 8.65599374e-06]\n",
      " [9.29314020e-01 7.06574872e-02 2.84929229e-05]\n",
      " [9.73117750e-01 2.68794433e-02 2.80625619e-06]]\n"
     ]
    }
   ],
   "source": [
    "clf = LogisticRegression(random_state=10, solver='lbfgs' , max_iter= 1000 , C = 0.5 , tol = 0.01)   # solver=[\"liblinear\",\"saga\"]\n",
    "# clf = LogisticRegression(random_state=10, solver='liblinear')\n",
    "# clf = LogisticRegression(random_state=10, solver='saga')\n",
    "\n",
    "clf.fit(X, y)\n",
    "print(f'predict values   : \\n{clf.predict(X[:5, :])}')\n",
    "print(f'predict estimate : \\n{clf.predict_proba(X[:5, :])}')"
   ]
  },
  {
   "cell_type": "code",
   "execution_count": 4,
   "metadata": {},
   "outputs": [
    {
     "name": "stdout",
     "output_type": "stream",
     "text": [
      "score            = 97.3 %\n",
      "No of iterations = [15]\n",
      "Classes          = [0 1 2]\n"
     ]
    }
   ],
   "source": [
    "score = clf.score(X, y)\n",
    "\n",
    "print(f'score            = {score*100:.1f} %')\n",
    "print(f'No of iterations = {clf.n_iter_}')\n",
    "print(f'Classes          = {clf.classes_}')"
   ]
  }
 ],
 "metadata": {
  "kernelspec": {
   "display_name": "base",
   "language": "python",
   "name": "python3"
  },
  "language_info": {
   "codemirror_mode": {
    "name": "ipython",
    "version": 3
   },
   "file_extension": ".py",
   "mimetype": "text/x-python",
   "name": "python",
   "nbconvert_exporter": "python",
   "pygments_lexer": "ipython3",
   "version": "3.12.3"
  }
 },
 "nbformat": 4,
 "nbformat_minor": 2
}
