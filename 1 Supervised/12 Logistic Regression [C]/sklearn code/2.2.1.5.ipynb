{
 "cells": [
  {
   "cell_type": "code",
   "execution_count": 1,
   "metadata": {},
   "outputs": [],
   "source": [
    "from sklearn.datasets import load_breast_cancer                 # type: ignore\n",
    "from sklearn.preprocessing import MinMaxScaler ,Normalizer      # type: ignore\n",
    "from sklearn.model_selection import train_test_split            # type: ignore  \n",
    "from sklearn.metrics import accuracy_score , confusion_matrix   # type: ignore\n",
    "from sklearn.linear_model import LogisticRegression             # type: ignore\n",
    "\n",
    "X , y = load_breast_cancer(return_X_y=True)"
   ]
  },
  {
   "cell_type": "code",
   "execution_count": 2,
   "metadata": {},
   "outputs": [],
   "source": [
    "scale  = MinMaxScaler()\n",
    "scale.fit(X)\n",
    "newx = scale.transform(X)\n",
    "\n",
    "# nor = Normalizer(norm = 'max')\n",
    "# nor.fit(X)\n",
    "# newx = nor.transform(X)"
   ]
  },
  {
   "cell_type": "code",
   "execution_count": 3,
   "metadata": {},
   "outputs": [
    {
     "name": "stdout",
     "output_type": "stream",
     "text": [
      "0.9824561403508771\n"
     ]
    }
   ],
   "source": [
    "x_train, x_test, y_train, y_test = train_test_split(newx, y, test_size = 0.2)\n",
    "\n",
    "logreg = LogisticRegression()\n",
    "logreg.fit(x_train , y_train)\n",
    "result= logreg.predict(x_test)\n",
    "print(accuracy_score(y_test , result))"
   ]
  },
  {
   "cell_type": "code",
   "execution_count": 4,
   "metadata": {},
   "outputs": [
    {
     "name": "stdout",
     "output_type": "stream",
     "text": [
      "confusion matrix \n",
      " [[37  2]\n",
      " [ 0 75]]\n"
     ]
    }
   ],
   "source": [
    "conf = confusion_matrix(y_test , result)\n",
    "print('confusion matrix \\n',  conf)"
   ]
  }
 ],
 "metadata": {
  "kernelspec": {
   "display_name": "base",
   "language": "python",
   "name": "python3"
  },
  "language_info": {
   "codemirror_mode": {
    "name": "ipython",
    "version": 3
   },
   "file_extension": ".py",
   "mimetype": "text/x-python",
   "name": "python",
   "nbconvert_exporter": "python",
   "pygments_lexer": "ipython3",
   "version": "3.12.3"
  }
 },
 "nbformat": 4,
 "nbformat_minor": 2
}
