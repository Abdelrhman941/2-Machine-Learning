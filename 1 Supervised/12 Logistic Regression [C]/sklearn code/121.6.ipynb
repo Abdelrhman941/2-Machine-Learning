{
 "cells": [
  {
   "cell_type": "code",
   "execution_count": 1,
   "metadata": {},
   "outputs": [],
   "source": [
    "import numpy as np                                                  # type: ignore\n",
    "from sklearn.datasets import load_breast_cancer                     # type: ignore\n",
    "from sklearn.preprocessing import FunctionTransformer               # type: ignore\n",
    "from sklearn.model_selection import train_test_split                # type: ignore\n",
    "from sklearn.metrics import accuracy_score , confusion_matrix       # type: ignore\n",
    "from sklearn.linear_model import LogisticRegression                 # type: ignore\n",
    "\n",
    "X , y = load_breast_cancer(return_X_y=True)"
   ]
  },
  {
   "cell_type": "code",
   "execution_count": 2,
   "metadata": {},
   "outputs": [],
   "source": [
    "def function1(z):\n",
    "    # return np.power(z,4)\n",
    "    # return np.sqrt(z)\n",
    "    return np.log1p(z)\n",
    "\n",
    "f = FunctionTransformer(func = function1)\n",
    "f.fit(X)\n",
    "x_f = f.transform(X)"
   ]
  },
  {
   "cell_type": "code",
   "execution_count": 3,
   "metadata": {},
   "outputs": [],
   "source": [
    "x_train, x_test, y_train, y_test = train_test_split(x_f, y, test_size = 0.2)"
   ]
  },
  {
   "cell_type": "code",
   "execution_count": 4,
   "metadata": {},
   "outputs": [
    {
     "name": "stdout",
     "output_type": "stream",
     "text": [
      "0.9473684210526315\n"
     ]
    }
   ],
   "source": [
    "logreg = LogisticRegression()\n",
    "logreg.fit(x_train , y_train)\n",
    "result= logreg.predict(x_test)\n",
    "print(accuracy_score(y_test , result))"
   ]
  },
  {
   "cell_type": "code",
   "execution_count": 5,
   "metadata": {},
   "outputs": [
    {
     "name": "stdout",
     "output_type": "stream",
     "text": [
      "confusion matrix \n",
      " [[36  4]\n",
      " [ 2 72]]\n"
     ]
    }
   ],
   "source": [
    "conf = confusion_matrix(y_test , result)\n",
    "print('confusion matrix \\n',  conf)"
   ]
  }
 ],
 "metadata": {
  "kernelspec": {
   "display_name": "base",
   "language": "python",
   "name": "python3"
  },
  "language_info": {
   "codemirror_mode": {
    "name": "ipython",
    "version": 3
   },
   "file_extension": ".py",
   "mimetype": "text/x-python",
   "name": "python",
   "nbconvert_exporter": "python",
   "pygments_lexer": "ipython3",
   "version": "3.12.3"
  }
 },
 "nbformat": 4,
 "nbformat_minor": 2
}
