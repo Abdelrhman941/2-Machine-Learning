{
 "cells": [
  {
   "cell_type": "code",
   "execution_count": 1,
   "metadata": {},
   "outputs": [],
   "source": [
    "from sklearn.datasets import load_iris                      # type: ignore\n",
    "from sklearn.model_selection import train_test_split        # type: ignore\n",
    "from sklearn.metrics import confusion_matrix                # type: ignore\n",
    "from sklearn.linear_model import LogisticRegression         # type: ignore\n",
    "from sklearn.svm import SVC                                 # type: ignore\n",
    "import matplotlib.pyplot as plt                             # type: ignore\n",
    "import seaborn as sns                                       # type: ignore\n",
    "\n",
    "X , y = load_iris(return_X_y=True)"
   ]
  },
  {
   "cell_type": "code",
   "execution_count": 2,
   "metadata": {},
   "outputs": [
    {
     "name": "stdout",
     "output_type": "stream",
     "text": [
      "X_train shape >> (100, 4)\n",
      "X_test shape  >> (50, 4)  \n",
      "y_train shape >> (100,)\n",
      "y_test shape  >> (50,)\n"
     ]
    }
   ],
   "source": [
    "X_train, X_test, y_train, y_test = train_test_split(X, y, test_size=0.33, random_state=44, shuffle =True)\n",
    "\n",
    "print(f'X_train shape >> {X_train.shape}')\n",
    "print(f'X_test shape  >> {X_test.shape}  ')\n",
    "print(f'y_train shape >> {y_train.shape}')  \n",
    "print(f'y_test shape  >> {y_test.shape}')"
   ]
  },
  {
   "cell_type": "code",
   "execution_count": 3,
   "metadata": {},
   "outputs": [
    {
     "name": "stdout",
     "output_type": "stream",
     "text": [
      "LogisticRegressionModel Train Score = 0.95\n",
      "LogisticRegressionModel Test Score  = 0.98\n",
      "LogisticRegressionModel Classes     = [0 1 2]\n",
      "LogisticRegressionModel No. of iterations = [1451]\n",
      "\n",
      "Predicted Value for LogisticRegressionModel : [2 0 1 1 2 0 2 2 2 1]\n",
      "Prediction Probabilities Value for LogisticRegressionModel : \n",
      "[[2.76605796e-05 2.48081142e-02 9.75164225e-01]\n",
      " [9.55650202e-01 4.43495402e-02 2.57278017e-07]\n",
      " [9.41739110e-02 8.99495364e-01 6.33072470e-03]\n",
      " [3.26905042e-02 9.20012429e-01 4.72970666e-02]\n",
      " [2.63681417e-05 3.67552839e-02 9.63218348e-01]\n",
      " [9.70171145e-01 2.98286869e-02 1.67959826e-07]\n",
      " [5.31132358e-08 1.91056288e-03 9.98089384e-01]\n",
      " [5.27556679e-06 2.92577308e-02 9.70736994e-01]\n",
      " [1.77498695e-05 3.67052934e-02 9.63276957e-01]\n",
      " [1.39576563e-02 9.01131382e-01 8.49109619e-02]]\n"
     ]
    }
   ],
   "source": [
    "# Applying LogisticRegression Model \n",
    "\n",
    "LogisticRegressionModel = LogisticRegression(penalty='l2',solver='sag',C=1.0,random_state=33,max_iter=10000)\n",
    "LogisticRegressionModel.fit(X_train, y_train)\n",
    "\n",
    "#Calculating Details\n",
    "print(f'LogisticRegressionModel Train Score = {LogisticRegressionModel.score(X_train, y_train)}')\n",
    "print(f'LogisticRegressionModel Test Score  = {LogisticRegressionModel.score(X_test, y_test)}')\n",
    "print(f'LogisticRegressionModel Classes     = {LogisticRegressionModel.classes_}')\n",
    "print(f'LogisticRegressionModel No. of iterations = {LogisticRegressionModel.n_iter_}\\n')\n",
    "\n",
    "## Calculating Prediction:\n",
    "y_pred = LogisticRegressionModel.predict(X_test)\n",
    "y_pred_prob = LogisticRegressionModel.predict_proba(X_test)\n",
    "print(f'Predicted Value for LogisticRegressionModel : {y_pred[:10]}')\n",
    "print(f'Prediction Probabilities Value for LogisticRegressionModel : \\n{y_pred_prob[:10]}')"
   ]
  },
  {
   "cell_type": "code",
   "execution_count": 4,
   "metadata": {},
   "outputs": [
    {
     "name": "stdout",
     "output_type": "stream",
     "text": [
      "Confusion Matrix is : \n",
      "[[18  0  0]\n",
      " [ 0 15  0]\n",
      " [ 0  1 16]]\n"
     ]
    },
    {
     "data": {
      "image/png": "[encoded data removed]",
      "text/plain": [
       "<Figure size 640x480 with 2 Axes>"
      ]
     },
     "metadata": {},
     "output_type": "display_data"
    }
   ],
   "source": [
    "## Calculating Confusion Matrix:\n",
    "CM = confusion_matrix(y_test, y_pred)\n",
    "print(f'Confusion Matrix is : \\n{CM}')\n",
    "\n",
    "## drawing confusion matrix:\n",
    "sns.heatmap(CM, center = True)\n",
    "plt.show()"
   ]
  },
  {
   "cell_type": "code",
   "execution_count": 5,
   "metadata": {},
   "outputs": [
    {
     "name": "stdout",
     "output_type": "stream",
     "text": [
      "SVCModel Train Score = 0.96\n",
      "SVCModel Test  Score = 0.98\n",
      "----------------------------------------------------\n",
      "Predicted Value for SVCModel : \n",
      "[2 0 1 1 2 0 2 2 2 1]\n"
     ]
    }
   ],
   "source": [
    "## Applying SVC Model: \n",
    "SVCModel = SVC(kernel= 'rbf',max_iter=100,C=1.0,gamma='auto')\n",
    "SVCModel.fit(X_train, y_train)\n",
    "\n",
    "# Calculating Details:\n",
    "print(f'SVCModel Train Score = {SVCModel.score(X_train, y_train)}')\n",
    "print(f'SVCModel Test  Score = {SVCModel.score(X_test, y_test)}')\n",
    "print('----------------------------------------------------')\n",
    "\n",
    "# Calculating Prediction:\n",
    "y_pred = SVCModel.predict(X_test)\n",
    "print(f'Predicted Value for SVCModel : \\n{y_pred[:10]}')"
   ]
  },
  {
   "cell_type": "code",
   "execution_count": 6,
   "metadata": {},
   "outputs": [
    {
     "name": "stdout",
     "output_type": "stream",
     "text": [
      "Confusion Matrix is : \n",
      "[[18  0  0]\n",
      " [ 0 15  0]\n",
      " [ 0  1 16]]\n"
     ]
    },
    {
     "data": {
      "image/png": "[encoded data removed]",
      "text/plain": [
       "<Figure size 640x480 with 2 Axes>"
      ]
     },
     "metadata": {},
     "output_type": "display_data"
    }
   ],
   "source": [
    "## Calculating Confusion Matrix:\n",
    "CM = confusion_matrix(y_test, y_pred)\n",
    "print(f'Confusion Matrix is : \\n{CM}')\n",
    "\n",
    "## drawing confusion matrix:\n",
    "sns.heatmap(CM, center = True)\n",
    "plt.show()"
   ]
  }
 ],
 "metadata": {
  "kernelspec": {
   "display_name": "base",
   "language": "python",
   "name": "python3"
  },
  "language_info": {
   "codemirror_mode": {
    "name": "ipython",
    "version": 3
   },
   "file_extension": ".py",
   "mimetype": "text/x-python",
   "name": "python",
   "nbconvert_exporter": "python",
   "pygments_lexer": "ipython3",
   "version": "3.12.3"
  }
 },
 "nbformat": 4,
 "nbformat_minor": 2
}
