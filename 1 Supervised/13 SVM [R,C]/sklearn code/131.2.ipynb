{
 "cells": [
  {
   "cell_type": "code",
   "execution_count": 1,
   "metadata": {},
   "outputs": [
    {
     "name": "stdout",
     "output_type": "stream",
     "text": [
      "(10, 10)\n",
      "[ 1.8831507  -1.34775906 -1.270485    0.96939671 -1.17312341  1.94362119\n",
      " -0.41361898 -0.74745481  1.92294203  1.48051479]\n"
     ]
    }
   ],
   "source": [
    "import numpy as np              # type: ignore\n",
    "from sklearn.svm import SVR     # type: ignore\n",
    "\n",
    "n_samples=10\n",
    "n_features = 10\n",
    "np.random.seed(0)\n",
    "X = np.random.randn(n_samples, n_features)\n",
    "y = np.random.randn(n_samples)\n",
    "\n",
    "print(X.shape)\n",
    "print(y)"
   ]
  },
  {
   "cell_type": "code",
   "execution_count": 2,
   "metadata": {},
   "outputs": [
    {
     "name": "stdout",
     "output_type": "stream",
     "text": [
      "newx : \n",
      "[[-1.0797781  -0.69342441 -2.33804615  1.66226234 -0.27535274 -0.74657045\n",
      "   1.22510346 -0.11043246 -1.27348939  0.03178615]]\n",
      "\n",
      "y_pred : [-0.1709208]\n"
     ]
    }
   ],
   "source": [
    "clf = SVR(gamma='scale', C=1.0, epsilon=0.2)\n",
    "clf.fit(X, y)\n",
    "\n",
    "newx = np.random.randn(1,10)\n",
    "y_pred = clf.predict(newx)\n",
    "\n",
    "print(f\"newx : \\n{newx}\\n\")\n",
    "print(f\"y_pred : {y_pred}\")"
   ]
  }
 ],
 "metadata": {
  "kernelspec": {
   "display_name": "base",
   "language": "python",
   "name": "python3"
  },
  "language_info": {
   "codemirror_mode": {
    "name": "ipython",
    "version": 3
   },
   "file_extension": ".py",
   "mimetype": "text/x-python",
   "name": "python",
   "nbconvert_exporter": "python",
   "pygments_lexer": "ipython3",
   "version": "3.12.3"
  }
 },
 "nbformat": 4,
 "nbformat_minor": 2
}
