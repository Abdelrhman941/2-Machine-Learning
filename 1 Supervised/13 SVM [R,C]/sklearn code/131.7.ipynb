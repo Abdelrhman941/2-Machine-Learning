{
 "cells": [
  {
   "cell_type": "code",
   "execution_count": 1,
   "metadata": {},
   "outputs": [],
   "source": [
    "from sklearn.datasets import load_wine                                                          # type: ignore\n",
    "from sklearn.model_selection import train_test_split                                            # type: ignore\n",
    "from sklearn.metrics import mean_absolute_error ,mean_squared_error ,median_absolute_error      # type: ignore\n",
    "from sklearn.linear_model import LinearRegression                                               # type: ignore\n",
    "from sklearn.svm import SVR                                                                     # type: ignore\n",
    "\n",
    "X , y = load_wine(return_X_y=True)"
   ]
  },
  {
   "cell_type": "code",
   "execution_count": 2,
   "metadata": {},
   "outputs": [
    {
     "name": "stdout",
     "output_type": "stream",
     "text": [
      "X_train shape : (119, 13)\n",
      "y_train shape : (119,)\n",
      "X_test  shape : (59, 13)\n",
      "y_test  shape : (59,)\n"
     ]
    }
   ],
   "source": [
    "X_train, X_test, y_train, y_test = train_test_split(X, y, test_size=0.33, random_state=44, shuffle =True)\n",
    "\n",
    "print(f'X_train shape : {X_train.shape}')\n",
    "print(f'y_train shape : {y_train.shape}')\n",
    "print(f'X_test  shape : {X_test.shape}')\n",
    "print(f'y_test  shape : {y_test.shape}')"
   ]
  },
  {
   "cell_type": "code",
   "execution_count": 3,
   "metadata": {},
   "outputs": [
    {
     "name": "stdout",
     "output_type": "stream",
     "text": [
      "Linear Regression Train Score  : 0.8896075151818538\n",
      "Linear Regression Test  Score  : 0.905628116999682\n",
      "\n",
      "Linear Regression Coef : \n",
      "[-0.14505735  0.03503511 -0.07978646  0.03082889 -0.00328785  0.10883994\n",
      " -0.32538887 -0.26533916  0.02559068  0.08234587 -0.28680835 -0.27190571\n",
      " -0.00065467]\n",
      "Linear Regression intercept  : 4.189733478736796\n"
     ]
    }
   ],
   "source": [
    "## Applying Linear Regression Model :\n",
    "\n",
    "LinearRegressionModel = LinearRegression(fit_intercept=True,copy_X=True,n_jobs=-1)\n",
    "LinearRegressionModel.fit(X_train, y_train)\n",
    "\n",
    "print(f'Linear Regression Train Score  : {LinearRegressionModel.score(X_train, y_train)}')\n",
    "print(f'Linear Regression Test  Score  : {LinearRegressionModel.score(X_test, y_test)}\\n')\n",
    "print(f'Linear Regression Coef : \\n{LinearRegressionModel.coef_}')\n",
    "print(f'Linear Regression intercept  : {LinearRegressionModel.intercept_}')"
   ]
  },
  {
   "cell_type": "code",
   "execution_count": 4,
   "metadata": {},
   "outputs": [
    {
     "name": "stdout",
     "output_type": "stream",
     "text": [
      "Predicted Value for Linear Regression : \n",
      "[-0.11530462  1.03715114  0.14873163  2.2434048   2.05175212  0.16027265\n",
      "  0.71199414  0.7988256   0.44251153  0.79371028]\n"
     ]
    }
   ],
   "source": [
    "#Calculating Prediction\n",
    "y_pred = LinearRegressionModel.predict(X_test)\n",
    "print(f'Predicted Value for Linear Regression : \\n{y_pred[:10]}')"
   ]
  },
  {
   "cell_type": "code",
   "execution_count": 5,
   "metadata": {},
   "outputs": [
    {
     "name": "stdout",
     "output_type": "stream",
     "text": [
      "Mean  Absolute Error Value = 0.18015938769909579\n",
      "Mean   Squared Error Value = 0.05465490265114651\n",
      "Median Squared Error Value = 0.14752365377296472\n"
     ]
    }
   ],
   "source": [
    "## Calculating Mean Absolute Error:\n",
    "MAEValue = mean_absolute_error(y_test, y_pred, multioutput='uniform_average') # it can be raw_values\n",
    "print(f'Mean  Absolute Error Value = {MAEValue}')\n",
    "\n",
    "#----------------------------------------------------\n",
    "## Calculating Mean Squared Error:\n",
    "MSEValue = mean_squared_error(y_test, y_pred, multioutput='uniform_average') # it can be raw_values\n",
    "print(f'Mean   Squared Error Value = {MSEValue}')\n",
    "\n",
    "#----------------------------------------------------\n",
    "## Calculating Median Squared Error:\n",
    "MdSEValue = median_absolute_error(y_test, y_pred)\n",
    "print(f'Median Squared Error Value = {MdSEValue}')"
   ]
  },
  {
   "cell_type": "code",
   "execution_count": 6,
   "metadata": {},
   "outputs": [
    {
     "name": "stdout",
     "output_type": "stream",
     "text": [
      "SVRModel Train Score = 0.41971865425990595\n"
     ]
    },
    {
     "name": "stdout",
     "output_type": "stream",
     "text": [
      "SVRModel Test  Score = 0.5557383342246384\n",
      "Predicted Value for SVRModel = \n",
      "[-0.08200089  1.05732135  0.36152949  1.12980014  0.61719914  0.22801722\n",
      "  1.10843128  1.11739554  0.11012422  1.01669237]\n"
     ]
    }
   ],
   "source": [
    "SVRModel = SVR(C = 1.0 ,epsilon=0.1,kernel = 'rbf')\n",
    "SVRModel.fit(X_train, y_train)\n",
    "\n",
    "# Calculating Details:\n",
    "print(f'SVRModel Train Score = {SVRModel.score(X_train, y_train)}')\n",
    "print(f'SVRModel Test  Score = {SVRModel.score(X_test, y_test)}')\n",
    "\n",
    "# Calculating Prediction:\n",
    "y_pred = SVRModel.predict(X_test)\n",
    "print(f'Predicted Value for SVRModel = \\n{y_pred[:10]}')"
   ]
  },
  {
   "cell_type": "code",
   "execution_count": 7,
   "metadata": {},
   "outputs": [
    {
     "name": "stdout",
     "output_type": "stream",
     "text": [
      "Mean  Absolute Error Value = 0.3478515940516525\n",
      "Mean   Squared Error Value = 0.2572914444708788\n",
      "Median Squared Error Value = 0.11777713068249507\n"
     ]
    }
   ],
   "source": [
    "## Calculating Mean Absolute Error:\n",
    "MAEValue = mean_absolute_error(y_test, y_pred, multioutput='uniform_average') # it can be raw_values\n",
    "print(f'Mean  Absolute Error Value = {MAEValue}')\n",
    "\n",
    "#----------------------------------------------------\n",
    "## Calculating Mean Squared Error:\n",
    "MSEValue = mean_squared_error(y_test, y_pred, multioutput='uniform_average') # it can be raw_values\n",
    "print(f'Mean   Squared Error Value = {MSEValue}')\n",
    "\n",
    "#----------------------------------------------------\n",
    "## Calculating Median Squared Error:\n",
    "MdSEValue = median_absolute_error(y_test, y_pred)\n",
    "print(f'Median Squared Error Value = {MdSEValue}')"
   ]
  }
 ],
 "metadata": {
  "kernelspec": {
   "display_name": "base",
   "language": "python",
   "name": "python3"
  },
  "language_info": {
   "codemirror_mode": {
    "name": "ipython",
    "version": 3
   },
   "file_extension": ".py",
   "mimetype": "text/x-python",
   "name": "python",
   "nbconvert_exporter": "python",
   "pygments_lexer": "ipython3",
   "version": "3.12.3"
  }
 },
 "nbformat": 4,
 "nbformat_minor": 2
}
