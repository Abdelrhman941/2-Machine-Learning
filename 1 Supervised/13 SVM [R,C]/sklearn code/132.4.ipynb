{
 "cells": [
  {
   "cell_type": "code",
   "execution_count": 1,
   "metadata": {},
   "outputs": [],
   "source": [
    "from sklearn.datasets import load_breast_cancer                 # type: ignore\n",
    "from sklearn.preprocessing import PolynomialFeatures            # type: ignore\n",
    "from sklearn.model_selection import train_test_split            # type: ignore\n",
    "from sklearn.metrics import accuracy_score, confusion_matrix    # type: ignore\n",
    "from sklearn.linear_model import LogisticRegression             # type: ignore\n",
    "from sklearn.svm import SVC                                     # type: ignore\n",
    "import matplotlib.pyplot as plt                                 # type: ignore\n",
    "import seaborn as sns                                           # type: ignore\n",
    "\n",
    "X , y = load_breast_cancer(return_X_y=True)"
   ]
  },
  {
   "cell_type": "code",
   "execution_count": 2,
   "metadata": {},
   "outputs": [],
   "source": [
    "poly = PolynomialFeatures( degree = 3 , include_bias = False)\n",
    "x_poly = poly.fit_transform(X)"
   ]
  },
  {
   "cell_type": "code",
   "execution_count": 3,
   "metadata": {},
   "outputs": [],
   "source": [
    "x_train, x_test, y_train, y_test = train_test_split(x_poly, y, test_size = 0.2)"
   ]
  },
  {
   "cell_type": "code",
   "execution_count": 4,
   "metadata": {},
   "outputs": [
    {
     "name": "stdout",
     "output_type": "stream",
     "text": [
      "accuracy = 0.96\n"
     ]
    },
    {
     "name": "stderr",
     "output_type": "stream",
     "text": [
      "c:\\Users\\abdal\\anaconda3\\Lib\\site-packages\\sklearn\\linear_model\\_logistic.py:465: ConvergenceWarning: lbfgs failed to converge (status=1):\n",
      "STOP: TOTAL NO. OF ITERATIONS REACHED LIMIT.\n",
      "\n",
      "Increase the number of iterations (max_iter) or scale the data as shown in:\n",
      "    https://scikit-learn.org/stable/modules/preprocessing.html\n",
      "Please also refer to the documentation for alternative solver options:\n",
      "    https://scikit-learn.org/stable/modules/linear_model.html#logistic-regression\n",
      "  n_iter_i = _check_optimize_result(\n"
     ]
    }
   ],
   "source": [
    "# apply LR:\n",
    "logreg = LogisticRegression(penalty = 'l2')\n",
    "logreg.fit(x_train , y_train)\n",
    "result1 = logreg.predict(x_test)\n",
    "print(f'accuracy = {accuracy_score(y_test , result1):.2f}')"
   ]
  },
  {
   "cell_type": "code",
   "execution_count": 5,
   "metadata": {},
   "outputs": [
    {
     "name": "stdout",
     "output_type": "stream",
     "text": [
      "Confusion Matrix is : \n",
      "[[38  4]\n",
      " [ 0 72]]\n"
     ]
    },
    {
     "data": {
      "image/png": "[encoded data removed]",
      "text/plain": [
       "<Figure size 640x480 with 2 Axes>"
      ]
     },
     "metadata": {},
     "output_type": "display_data"
    }
   ],
   "source": [
    "## Calculating Confusion Matrix:\n",
    "CM1 = confusion_matrix(y_test, result1)\n",
    "print(f'Confusion Matrix is : \\n{CM1}')\n",
    "\n",
    "## drawing confusion matrix:\n",
    "sns.heatmap(CM1, center = True)\n",
    "plt.show()"
   ]
  },
  {
   "cell_type": "code",
   "execution_count": 6,
   "metadata": {},
   "outputs": [
    {
     "name": "stdout",
     "output_type": "stream",
     "text": [
      "accuracy = 0.9649122807017544\n"
     ]
    }
   ],
   "source": [
    "# apply SVC:\n",
    "classifier = SVC(C = 0.9 , degree = 5 , tol = 0.0000001)\n",
    "classifier.fit(x_train , y_train)\n",
    "result2= logreg.predict(x_test)\n",
    "print(f'accuracy = {accuracy_score(y_test , result2)}')"
   ]
  },
  {
   "cell_type": "code",
   "execution_count": 7,
   "metadata": {},
   "outputs": [
    {
     "name": "stdout",
     "output_type": "stream",
     "text": [
      "Confusion Matrix is : \n",
      "[[38  4]\n",
      " [ 0 72]]\n"
     ]
    },
    {
     "data": {
      "image/png": "[encoded data removed]",
      "text/plain": [
       "<Figure size 640x480 with 2 Axes>"
      ]
     },
     "metadata": {},
     "output_type": "display_data"
    }
   ],
   "source": [
    "## Calculating Confusion Matrix:\n",
    "CM2 = confusion_matrix(y_test, result2)\n",
    "print(f'Confusion Matrix is : \\n{CM2}')\n",
    "\n",
    "## drawing confusion matrix:\n",
    "sns.heatmap(CM2, center = True)\n",
    "plt.show()"
   ]
  }
 ],
 "metadata": {
  "kernelspec": {
   "display_name": "base",
   "language": "python",
   "name": "python3"
  },
  "language_info": {
   "codemirror_mode": {
    "name": "ipython",
    "version": 3
   },
   "file_extension": ".py",
   "mimetype": "text/x-python",
   "name": "python",
   "nbconvert_exporter": "python",
   "pygments_lexer": "ipython3",
   "version": "3.12.3"
  }
 },
 "nbformat": 4,
 "nbformat_minor": 2
}
